{
 "cells": [
  {
   "cell_type": "markdown",
   "metadata": {
    "id": "mwhXc6i4f64P"
   },
   "source": [
    "# **GOODREADS BOOK RECOMMENDATION SYSTEM** \n",
    "\n",
    " \n",
    "By: \n",
    "\n",
    "\n",
    "Manita Pasi (002100976) \n",
    "\n",
    "Anvesh Vatsavai (002190816) \n",
    "\n",
    "Yash Navadiya (002193912) \n",
    "\n",
    "Kshitija Laware (002984668) "
   ]
  },
  {
   "cell_type": "markdown",
   "metadata": {
    "id": "vwy2C891ZOfD"
   },
   "source": [
    "# ------------------------- Data Collection -------------------------- "
   ]
  },
  {
   "cell_type": "markdown",
   "metadata": {
    "id": "4ehuQ8mUelnH"
   },
   "source": [
    "We do some data collection using the fields given in our dataset, with the help of \"BeautifulSoup\" library. \n",
    "\n",
    "We use the \"Bookid\" and the url to fetch data from the website and create new data rows."
   ]
  },
  {
   "cell_type": "markdown",
   "metadata": {
    "id": "nUm2p-zbelzS"
   },
   "source": [
    "## Importing and Loading the libraries"
   ]
  },
  {
   "cell_type": "code",
   "execution_count": 46,
   "metadata": {
    "id": "a7_ZtweLdwDs"
   },
   "outputs": [],
   "source": [
    "import pandas as pd\n",
    "import numpy as np\n",
    "import json\n",
    "import gzip\n",
    "import math\n",
    "import random\n",
    "import time\n",
    "import requests\n",
    "from urllib.request import urlopen\n",
    "from bs4 import BeautifulSoup\n",
    "from collections import defaultdict\n",
    "from sklearn.preprocessing import LabelEncoder"
   ]
  },
  {
   "cell_type": "code",
   "execution_count": 47,
   "metadata": {
    "id": "wVxuGevNd6Lu"
   },
   "outputs": [],
   "source": [
    "#from google.colab import drive"
   ]
  },
  {
   "cell_type": "markdown",
   "metadata": {
    "id": "LHsBXWtHelzV"
   },
   "source": [
    "\n",
    "\n",
    "## Reading the Data"
   ]
  },
  {
   "cell_type": "code",
   "execution_count": 48,
   "metadata": {},
   "outputs": [
    {
     "name": "stdout",
     "output_type": "stream",
     "text": [
      "Requirement already satisfied: requests in /Users/manitapasi/opt/anaconda3/lib/python3.9/site-packages (2.26.0)\r\n",
      "Requirement already satisfied: certifi>=2017.4.17 in /Users/manitapasi/opt/anaconda3/lib/python3.9/site-packages (from requests) (2021.10.8)\r\n",
      "Requirement already satisfied: charset-normalizer~=2.0.0 in /Users/manitapasi/opt/anaconda3/lib/python3.9/site-packages (from requests) (2.0.4)\r\n",
      "Requirement already satisfied: urllib3<1.27,>=1.21.1 in /Users/manitapasi/opt/anaconda3/lib/python3.9/site-packages (from requests) (1.26.7)\r\n",
      "Requirement already satisfied: idna<4,>=2.5 in /Users/manitapasi/opt/anaconda3/lib/python3.9/site-packages (from requests) (3.2)\r\n"
     ]
    }
   ],
   "source": [
    "!pip install requests"
   ]
  },
  {
   "cell_type": "code",
   "execution_count": 49,
   "metadata": {},
   "outputs": [],
   "source": [
    "# Download the fantasy_10000.json file from the specified GitHub repository and save it as fantasy_10000.json\n",
    "import requests\n",
    "\n",
    "url = \"https://raw.githubusercontent.com/ManitaPasi/INFO-7390-Final-Project/main/fantasy_10000.json\"\n",
    "response = requests.get(url)\n",
    "\n",
    "with open(\"fantasy_10000.json\", \"wb\") as f:\n",
    "    f.write(response.content)"
   ]
  },
  {
   "cell_type": "code",
   "execution_count": 50,
   "metadata": {
    "id": "M_RhPEyndwDw"
   },
   "outputs": [],
   "source": [
    "#Reading the fantasy_10000.json file downloaded\n",
    "df = pd.read_json('fantasy_10000.json' , lines = True)"
   ]
  },
  {
   "cell_type": "code",
   "execution_count": 51,
   "metadata": {
    "colab": {
     "base_uri": "https://localhost:8080/",
     "height": 617
    },
    "id": "i1uXD5u4dwDx",
    "outputId": "0155dc6e-2ff5-4d4b-9afa-50b801a416eb",
    "scrolled": true
   },
   "outputs": [
    {
     "data": {
      "text/html": [
       "<div>\n",
       "<style scoped>\n",
       "    .dataframe tbody tr th:only-of-type {\n",
       "        vertical-align: middle;\n",
       "    }\n",
       "\n",
       "    .dataframe tbody tr th {\n",
       "        vertical-align: top;\n",
       "    }\n",
       "\n",
       "    .dataframe thead th {\n",
       "        text-align: right;\n",
       "    }\n",
       "</style>\n",
       "<table border=\"1\" class=\"dataframe\">\n",
       "  <thead>\n",
       "    <tr style=\"text-align: right;\">\n",
       "      <th></th>\n",
       "      <th>user_id</th>\n",
       "      <th>book_id</th>\n",
       "      <th>review_id</th>\n",
       "      <th>rating</th>\n",
       "      <th>review_text</th>\n",
       "      <th>date_added</th>\n",
       "      <th>date_updated</th>\n",
       "      <th>read_at</th>\n",
       "      <th>started_at</th>\n",
       "      <th>n_votes</th>\n",
       "      <th>n_comments</th>\n",
       "    </tr>\n",
       "  </thead>\n",
       "  <tbody>\n",
       "    <tr>\n",
       "      <th>0</th>\n",
       "      <td>8842281e1d1347389f2ab93d60773d4d</td>\n",
       "      <td>18245960</td>\n",
       "      <td>dfdbb7b0eb5a7e4c26d59a937e2e5feb</td>\n",
       "      <td>5</td>\n",
       "      <td>This is a special book. It started slow for ab...</td>\n",
       "      <td>Sun Jul 30 07:44:10 -0700 2017</td>\n",
       "      <td>Wed Aug 30 00:00:26 -0700 2017</td>\n",
       "      <td>Sat Aug 26 12:05:52 -0700 2017</td>\n",
       "      <td>Tue Aug 15 13:23:18 -0700 2017</td>\n",
       "      <td>28</td>\n",
       "      <td>1</td>\n",
       "    </tr>\n",
       "    <tr>\n",
       "      <th>1</th>\n",
       "      <td>8842281e1d1347389f2ab93d60773d4d</td>\n",
       "      <td>5577844</td>\n",
       "      <td>52c8ac49496c153e4a97161e36b2db55</td>\n",
       "      <td>5</td>\n",
       "      <td>A beautiful story. Neil Gaiman is truly a uniq...</td>\n",
       "      <td>Wed Sep 24 09:29:29 -0700 2014</td>\n",
       "      <td>Wed Oct 01 00:31:56 -0700 2014</td>\n",
       "      <td>Tue Sep 30 00:00:00 -0700 2014</td>\n",
       "      <td>Sun Sep 21 00:00:00 -0700 2014</td>\n",
       "      <td>5</td>\n",
       "      <td>1</td>\n",
       "    </tr>\n",
       "    <tr>\n",
       "      <th>2</th>\n",
       "      <td>8842281e1d1347389f2ab93d60773d4d</td>\n",
       "      <td>17315048</td>\n",
       "      <td>885c772fb033b041f42d57cef5be0a43</td>\n",
       "      <td>5</td>\n",
       "      <td>Mark Watney is a steely-eyed missile man. A ma...</td>\n",
       "      <td>Sat Apr 05 09:30:53 -0700 2014</td>\n",
       "      <td>Wed Mar 22 11:33:10 -0700 2017</td>\n",
       "      <td>Mon Aug 25 00:00:00 -0700 2014</td>\n",
       "      <td>Sat Aug 16 00:00:00 -0700 2014</td>\n",
       "      <td>25</td>\n",
       "      <td>5</td>\n",
       "    </tr>\n",
       "    <tr>\n",
       "      <th>3</th>\n",
       "      <td>8842281e1d1347389f2ab93d60773d4d</td>\n",
       "      <td>13453029</td>\n",
       "      <td>46a6e1a14e8afc82d221fec0a2bd3dd0</td>\n",
       "      <td>4</td>\n",
       "      <td>A fun fast paced book that sucks you in right ...</td>\n",
       "      <td>Tue Dec 04 11:12:22 -0800 2012</td>\n",
       "      <td>Sat Jul 26 11:43:28 -0700 2014</td>\n",
       "      <td>Tue Jul 08 00:00:00 -0700 2014</td>\n",
       "      <td>Wed Jul 02 00:00:00 -0700 2014</td>\n",
       "      <td>5</td>\n",
       "      <td>1</td>\n",
       "    </tr>\n",
       "    <tr>\n",
       "      <th>4</th>\n",
       "      <td>8842281e1d1347389f2ab93d60773d4d</td>\n",
       "      <td>13239822</td>\n",
       "      <td>a582bfa8efd69d453a5a21a678046b36</td>\n",
       "      <td>3</td>\n",
       "      <td>This book has a great premise, and is full of ...</td>\n",
       "      <td>Mon Jul 02 16:04:16 -0700 2012</td>\n",
       "      <td>Wed Mar 22 11:32:20 -0700 2017</td>\n",
       "      <td>Wed Aug 15 00:00:00 -0700 2012</td>\n",
       "      <td>Sun Aug 12 00:00:00 -0700 2012</td>\n",
       "      <td>7</td>\n",
       "      <td>0</td>\n",
       "    </tr>\n",
       "  </tbody>\n",
       "</table>\n",
       "</div>"
      ],
      "text/plain": [
       "                            user_id   book_id  \\\n",
       "0  8842281e1d1347389f2ab93d60773d4d  18245960   \n",
       "1  8842281e1d1347389f2ab93d60773d4d   5577844   \n",
       "2  8842281e1d1347389f2ab93d60773d4d  17315048   \n",
       "3  8842281e1d1347389f2ab93d60773d4d  13453029   \n",
       "4  8842281e1d1347389f2ab93d60773d4d  13239822   \n",
       "\n",
       "                          review_id  rating  \\\n",
       "0  dfdbb7b0eb5a7e4c26d59a937e2e5feb       5   \n",
       "1  52c8ac49496c153e4a97161e36b2db55       5   \n",
       "2  885c772fb033b041f42d57cef5be0a43       5   \n",
       "3  46a6e1a14e8afc82d221fec0a2bd3dd0       4   \n",
       "4  a582bfa8efd69d453a5a21a678046b36       3   \n",
       "\n",
       "                                         review_text  \\\n",
       "0  This is a special book. It started slow for ab...   \n",
       "1  A beautiful story. Neil Gaiman is truly a uniq...   \n",
       "2  Mark Watney is a steely-eyed missile man. A ma...   \n",
       "3  A fun fast paced book that sucks you in right ...   \n",
       "4  This book has a great premise, and is full of ...   \n",
       "\n",
       "                       date_added                    date_updated  \\\n",
       "0  Sun Jul 30 07:44:10 -0700 2017  Wed Aug 30 00:00:26 -0700 2017   \n",
       "1  Wed Sep 24 09:29:29 -0700 2014  Wed Oct 01 00:31:56 -0700 2014   \n",
       "2  Sat Apr 05 09:30:53 -0700 2014  Wed Mar 22 11:33:10 -0700 2017   \n",
       "3  Tue Dec 04 11:12:22 -0800 2012  Sat Jul 26 11:43:28 -0700 2014   \n",
       "4  Mon Jul 02 16:04:16 -0700 2012  Wed Mar 22 11:32:20 -0700 2017   \n",
       "\n",
       "                          read_at                      started_at  n_votes  \\\n",
       "0  Sat Aug 26 12:05:52 -0700 2017  Tue Aug 15 13:23:18 -0700 2017       28   \n",
       "1  Tue Sep 30 00:00:00 -0700 2014  Sun Sep 21 00:00:00 -0700 2014        5   \n",
       "2  Mon Aug 25 00:00:00 -0700 2014  Sat Aug 16 00:00:00 -0700 2014       25   \n",
       "3  Tue Jul 08 00:00:00 -0700 2014  Wed Jul 02 00:00:00 -0700 2014        5   \n",
       "4  Wed Aug 15 00:00:00 -0700 2012  Sun Aug 12 00:00:00 -0700 2012        7   \n",
       "\n",
       "   n_comments  \n",
       "0           1  \n",
       "1           1  \n",
       "2           5  \n",
       "3           1  \n",
       "4           0  "
      ]
     },
     "execution_count": 51,
     "metadata": {},
     "output_type": "execute_result"
    }
   ],
   "source": [
    "df.head()"
   ]
  },
  {
   "cell_type": "markdown",
   "metadata": {
    "id": "NQM6cXJDelzX"
   },
   "source": [
    "# Pre processing and data collection"
   ]
  },
  {
   "cell_type": "code",
   "execution_count": 52,
   "metadata": {
    "id": "JVgHQyWIdwDx"
   },
   "outputs": [],
   "source": [
    "# Import the LabelEncoder class from the preprocessing module of the scikit-learn library\n",
    "from sklearn import preprocessing"
   ]
  },
  {
   "cell_type": "code",
   "execution_count": 53,
   "metadata": {
    "colab": {
     "base_uri": "https://localhost:8080/"
    },
    "id": "VfSP_hiKdwDy",
    "outputId": "786a4590-da56-4980-9662-f576c8263115"
   },
   "outputs": [
    {
     "data": {
      "text/plain": [
       "10000"
      ]
     },
     "execution_count": 53,
     "metadata": {},
     "output_type": "execute_result"
    }
   ],
   "source": [
    "df.user_id.count()"
   ]
  },
  {
   "cell_type": "code",
   "execution_count": 54,
   "metadata": {
    "id": "kNU-Mj0YdwDy"
   },
   "outputs": [],
   "source": [
    "# Create an instance of the LabelEncoder class to encode categorical labels into numerical values\n",
    "label_encoder = preprocessing.LabelEncoder()"
   ]
  },
  {
   "cell_type": "code",
   "execution_count": 55,
   "metadata": {
    "colab": {
     "base_uri": "https://localhost:8080/"
    },
    "id": "1cq_JaXVdwDy",
    "outputId": "86f74be1-abe5-4baf-d4ad-2b34c6baf6fd"
   },
   "outputs": [
    {
     "data": {
      "text/plain": [
       "array([341, 278, 636,   0, 626,   5, 167, 373, 448, 566, 307, 484, 180,\n",
       "       135,  36, 384, 420, 543, 174, 446, 358,   1, 600,  22, 368, 103,\n",
       "       450, 625,  25, 366, 153, 156, 645, 381,  50, 481, 188, 392, 540,\n",
       "       524, 493, 136, 201, 452, 364, 567, 463, 138, 635,  57,  32, 127,\n",
       "       284, 492, 529, 315, 224,  40, 206, 261, 235,  14, 129, 250, 512,\n",
       "       166, 242, 546,  19, 582, 580, 388, 112, 475, 178, 429, 427, 332,\n",
       "        67,  93, 573,  47, 391, 194, 393, 514, 536, 157, 483, 119, 294,\n",
       "       319, 321, 352, 338,  63,  11, 303,   3, 230, 432,  23, 541,  75,\n",
       "       533, 326,   6, 631, 624,  56,  30, 150, 123, 490, 508, 518, 124,\n",
       "       482, 461, 583,  60, 609, 586, 216, 622,  55, 377, 445, 601, 154,\n",
       "       606, 607, 211,   4, 469, 638, 221, 114, 590, 145, 353,  72, 507,\n",
       "       342, 436, 408, 252, 253, 260, 604, 470, 229, 539, 424,  54,  45,\n",
       "        26, 286, 499, 227, 460, 148,  73, 535, 309,   8, 208, 423, 345,\n",
       "       330, 491,  96, 534, 548, 169, 544, 331, 285, 562, 596,  29,  61,\n",
       "       465, 176, 255,  13, 360, 587,  77, 588, 247,  37, 269, 574, 597,\n",
       "       348, 316, 504, 623, 453, 351, 641, 581, 437, 171, 621, 362, 394,\n",
       "       519, 273, 401, 565, 553,  68, 104, 214, 340, 262, 274, 617,  46,\n",
       "       585, 199, 184, 207, 517, 310, 102,  35, 271, 202, 306, 400,  69,\n",
       "       183, 191, 550, 441, 390, 335,  88, 395,  31, 385, 457, 383, 302,\n",
       "       257, 440, 111, 140,  85, 223, 527, 528,  18, 367, 485,  70, 186,\n",
       "       372, 158, 195,  28, 425, 254, 602, 118, 572, 115, 410, 185, 537,\n",
       "       421, 430, 361,  92, 320, 598,  84, 143, 570, 634, 106, 560, 236,\n",
       "       270, 168, 648, 593, 415, 511, 189, 644, 579, 109, 139, 239,  41,\n",
       "       248, 144, 639,  44, 137, 630, 203, 556, 594,  78, 416,  24, 647,\n",
       "       495, 576,  58, 155, 542,  99, 489, 283, 555, 438, 595, 637, 175,\n",
       "       363,  15,  43, 266, 505, 287, 105, 164, 614, 161, 280, 218, 299,\n",
       "       608, 386, 444,  33, 132, 133, 187, 578, 591, 404,  27, 256, 336,\n",
       "       277, 162, 265, 526, 454, 447, 215, 369, 198, 501, 300, 605, 411,\n",
       "       292, 530,  51, 131, 347, 126,  49, 434, 324, 267,   2, 642, 355,\n",
       "         9, 610, 356, 359,  98, 611, 480, 629, 192, 387, 196, 439, 396,\n",
       "       616, 557, 500, 225, 502, 244, 334, 376, 149,  79, 521, 122, 399,\n",
       "       569, 545, 442, 459,  10, 323, 210, 165, 125, 234, 313, 107,   7,\n",
       "       510, 240, 506, 405, 177, 279, 258, 179, 120, 344, 243, 268, 561,\n",
       "       592,  66, 339, 117, 494, 200, 467, 142, 290, 237, 226,  39,  89,\n",
       "       552, 615, 486, 378, 531, 503, 101,  65, 263,  64, 333, 413, 141,\n",
       "       619, 217, 422,  91, 318, 357,  62,  81, 325, 151, 462, 382, 130,\n",
       "       181, 374, 515, 584, 532,  74, 380,  86, 349,  42, 522, 205, 379,\n",
       "        38, 612, 219,  76, 435, 322, 233, 329, 417, 305, 304, 559, 451,\n",
       "       549,  16, 272, 646,  17, 640, 523, 163, 170, 108, 603, 471, 487,\n",
       "        71, 212, 426, 478, 479, 618, 259, 466, 251, 402, 328, 571, 375,\n",
       "       488, 249, 298, 418,  20, 204, 308, 343, 128,  21, 599, 275, 365,\n",
       "       643, 525, 577, 276,  80, 327, 297, 520, 246,  97, 458, 346, 407,\n",
       "       264, 209, 538, 245, 281,  34, 563, 412, 220, 113,  94, 311, 314,\n",
       "       289, 134, 397, 296, 406, 564, 301, 455, 213, 589, 628, 443, 146,\n",
       "        82, 110, 516, 350, 182, 238, 633, 419, 414, 147, 291, 428, 282,\n",
       "       509, 121, 554, 398, 152, 295,  59, 632, 497, 231, 317, 190, 513,\n",
       "       370, 100, 472, 477, 558, 476, 337,  48, 551, 197, 222, 354, 389,\n",
       "       288, 228,  12, 620,  83, 449,  53, 575, 232,  52, 498, 159, 293,\n",
       "       116, 172, 627, 547, 464, 403, 468,  87, 613, 496,  90, 241, 431,\n",
       "       433, 473, 193, 568, 474, 312, 409, 371, 160,  95, 173, 456])"
      ]
     },
     "execution_count": 55,
     "metadata": {},
     "output_type": "execute_result"
    }
   ],
   "source": [
    "# Encoding the user_id into unique label ids\n",
    "df['user_id']= label_encoder.fit_transform(df['user_id'])\n",
    "\n",
    "# Displaying the unique encoded user_ids\n",
    "df['user_id'].unique()"
   ]
  },
  {
   "cell_type": "code",
   "execution_count": 56,
   "metadata": {
    "colab": {
     "base_uri": "https://localhost:8080/"
    },
    "id": "0C2wRg1GdwDz",
    "outputId": "f99be511-4b9b-4753-9793-f852d01cc32f"
   },
   "outputs": [
    {
     "data": {
      "text/plain": [
       "array([8745, 3238, 5282, ..., 6475, 2948, 7715])"
      ]
     },
     "execution_count": 56,
     "metadata": {},
     "output_type": "execute_result"
    }
   ],
   "source": [
    "# Encoding the review_id column in the DataFrame\n",
    "df['review_id']= label_encoder.fit_transform(df['review_id']) \n",
    "\n",
    "# Displaying the unique encoded review_ids\n",
    "df['review_id'].unique()"
   ]
  },
  {
   "cell_type": "code",
   "execution_count": 57,
   "metadata": {
    "id": "v4vP3n-VdwDz"
   },
   "outputs": [],
   "source": [
    "# Creating an empty dataset list\n",
    "dataset = []\n",
    "df['user_id'] = df['user_id'].astype(int)\n",
    "df['book_id'] = df['book_id'].astype(int)\n",
    "df['rating'] = df['rating'].astype(int)\n",
    "df['review_id']= df['review_id'].astype(int)\n",
    "\n",
    "# Appending the processed DataFrame to the dataset list\n",
    "dataset.append(df)"
   ]
  },
  {
   "cell_type": "code",
   "execution_count": 58,
   "metadata": {
    "colab": {
     "base_uri": "https://localhost:8080/"
    },
    "id": "nICVi90MdwD0",
    "outputId": "aa271bcb-54c4-4c5e-98ee-ffa1d223fa3c"
   },
   "outputs": [
    {
     "data": {
      "text/plain": [
       "6465"
      ]
     },
     "execution_count": 58,
     "metadata": {},
     "output_type": "execute_result"
    }
   ],
   "source": [
    " # Counting the number of unique book_ids in the DataFrame\n",
    " df.book_id.nunique()"
   ]
  },
  {
   "cell_type": "code",
   "execution_count": 59,
   "metadata": {
    "colab": {
     "base_uri": "https://localhost:8080/"
    },
    "id": "SwWEddtNdwD0",
    "outputId": "efed0618-353a-42bc-9727-7b4eab632210"
   },
   "outputs": [
    {
     "data": {
      "text/plain": [
       "user_id         0\n",
       "book_id         0\n",
       "review_id       0\n",
       "rating          0\n",
       "review_text     0\n",
       "date_added      0\n",
       "date_updated    0\n",
       "read_at         0\n",
       "started_at      0\n",
       "n_votes         0\n",
       "n_comments      0\n",
       "dtype: int64"
      ]
     },
     "execution_count": 59,
     "metadata": {},
     "output_type": "execute_result"
    }
   ],
   "source": [
    "# Check to see for null values in the dataset\n",
    "df.isna().sum()"
   ]
  },
  {
   "cell_type": "code",
   "execution_count": 60,
   "metadata": {
    "colab": {
     "base_uri": "https://localhost:8080/",
     "height": 300
    },
    "id": "EKPa07jKdwD0",
    "outputId": "ceaebd1e-0dab-48bf-e4c5-db398678bc85"
   },
   "outputs": [
    {
     "data": {
      "text/html": [
       "<div>\n",
       "<style scoped>\n",
       "    .dataframe tbody tr th:only-of-type {\n",
       "        vertical-align: middle;\n",
       "    }\n",
       "\n",
       "    .dataframe tbody tr th {\n",
       "        vertical-align: top;\n",
       "    }\n",
       "\n",
       "    .dataframe thead th {\n",
       "        text-align: right;\n",
       "    }\n",
       "</style>\n",
       "<table border=\"1\" class=\"dataframe\">\n",
       "  <thead>\n",
       "    <tr style=\"text-align: right;\">\n",
       "      <th></th>\n",
       "      <th>user_id</th>\n",
       "      <th>book_id</th>\n",
       "      <th>review_id</th>\n",
       "      <th>rating</th>\n",
       "      <th>n_votes</th>\n",
       "      <th>n_comments</th>\n",
       "    </tr>\n",
       "  </thead>\n",
       "  <tbody>\n",
       "    <tr>\n",
       "      <th>count</th>\n",
       "      <td>10000.000000</td>\n",
       "      <td>1.000000e+04</td>\n",
       "      <td>10000.00000</td>\n",
       "      <td>10000.000000</td>\n",
       "      <td>10000.000000</td>\n",
       "      <td>10000.000000</td>\n",
       "    </tr>\n",
       "    <tr>\n",
       "      <th>mean</th>\n",
       "      <td>338.092300</td>\n",
       "      <td>1.225775e+07</td>\n",
       "      <td>4999.50000</td>\n",
       "      <td>3.740100</td>\n",
       "      <td>1.587600</td>\n",
       "      <td>0.277800</td>\n",
       "    </tr>\n",
       "    <tr>\n",
       "      <th>std</th>\n",
       "      <td>177.453467</td>\n",
       "      <td>9.452557e+06</td>\n",
       "      <td>2886.89568</td>\n",
       "      <td>1.247921</td>\n",
       "      <td>11.348075</td>\n",
       "      <td>1.502149</td>\n",
       "    </tr>\n",
       "    <tr>\n",
       "      <th>min</th>\n",
       "      <td>0.000000</td>\n",
       "      <td>1.000000e+00</td>\n",
       "      <td>0.00000</td>\n",
       "      <td>0.000000</td>\n",
       "      <td>0.000000</td>\n",
       "      <td>0.000000</td>\n",
       "    </tr>\n",
       "    <tr>\n",
       "      <th>25%</th>\n",
       "      <td>182.000000</td>\n",
       "      <td>3.072832e+06</td>\n",
       "      <td>2499.75000</td>\n",
       "      <td>3.000000</td>\n",
       "      <td>0.000000</td>\n",
       "      <td>0.000000</td>\n",
       "    </tr>\n",
       "    <tr>\n",
       "      <th>50%</th>\n",
       "      <td>354.000000</td>\n",
       "      <td>1.200049e+07</td>\n",
       "      <td>4999.50000</td>\n",
       "      <td>4.000000</td>\n",
       "      <td>0.000000</td>\n",
       "      <td>0.000000</td>\n",
       "    </tr>\n",
       "    <tr>\n",
       "      <th>75%</th>\n",
       "      <td>485.000000</td>\n",
       "      <td>1.858486e+07</td>\n",
       "      <td>7499.25000</td>\n",
       "      <td>5.000000</td>\n",
       "      <td>1.000000</td>\n",
       "      <td>0.000000</td>\n",
       "    </tr>\n",
       "    <tr>\n",
       "      <th>max</th>\n",
       "      <td>648.000000</td>\n",
       "      <td>3.630763e+07</td>\n",
       "      <td>9999.00000</td>\n",
       "      <td>5.000000</td>\n",
       "      <td>355.000000</td>\n",
       "      <td>45.000000</td>\n",
       "    </tr>\n",
       "  </tbody>\n",
       "</table>\n",
       "</div>"
      ],
      "text/plain": [
       "            user_id       book_id    review_id        rating       n_votes  \\\n",
       "count  10000.000000  1.000000e+04  10000.00000  10000.000000  10000.000000   \n",
       "mean     338.092300  1.225775e+07   4999.50000      3.740100      1.587600   \n",
       "std      177.453467  9.452557e+06   2886.89568      1.247921     11.348075   \n",
       "min        0.000000  1.000000e+00      0.00000      0.000000      0.000000   \n",
       "25%      182.000000  3.072832e+06   2499.75000      3.000000      0.000000   \n",
       "50%      354.000000  1.200049e+07   4999.50000      4.000000      0.000000   \n",
       "75%      485.000000  1.858486e+07   7499.25000      5.000000      1.000000   \n",
       "max      648.000000  3.630763e+07   9999.00000      5.000000    355.000000   \n",
       "\n",
       "         n_comments  \n",
       "count  10000.000000  \n",
       "mean       0.277800  \n",
       "std        1.502149  \n",
       "min        0.000000  \n",
       "25%        0.000000  \n",
       "50%        0.000000  \n",
       "75%        0.000000  \n",
       "max       45.000000  "
      ]
     },
     "execution_count": 60,
     "metadata": {},
     "output_type": "execute_result"
    }
   ],
   "source": [
    "# Statistics for the dataset\n",
    "df.describe()"
   ]
  },
  {
   "cell_type": "code",
   "execution_count": 61,
   "metadata": {
    "colab": {
     "base_uri": "https://localhost:8080/"
    },
    "id": "ks2n6Vd_elzd",
    "outputId": "62f3fea9-29d0-4911-8ebc-01bc49f0f740"
   },
   "outputs": [
    {
     "name": "stdout",
     "output_type": "stream",
     "text": [
      "<class 'pandas.core.frame.DataFrame'>\n",
      "RangeIndex: 10000 entries, 0 to 9999\n",
      "Data columns (total 11 columns):\n",
      " #   Column        Non-Null Count  Dtype \n",
      "---  ------        --------------  ----- \n",
      " 0   user_id       10000 non-null  int64 \n",
      " 1   book_id       10000 non-null  int64 \n",
      " 2   review_id     10000 non-null  int64 \n",
      " 3   rating        10000 non-null  int64 \n",
      " 4   review_text   10000 non-null  object\n",
      " 5   date_added    10000 non-null  object\n",
      " 6   date_updated  10000 non-null  object\n",
      " 7   read_at       10000 non-null  object\n",
      " 8   started_at    10000 non-null  object\n",
      " 9   n_votes       10000 non-null  int64 \n",
      " 10  n_comments    10000 non-null  int64 \n",
      "dtypes: int64(6), object(5)\n",
      "memory usage: 859.5+ KB\n"
     ]
    }
   ],
   "source": [
    "# Display information about the DataFrame, including the data types, non-null values, and memory usage\n",
    "df.info()"
   ]
  },
  {
   "cell_type": "code",
   "execution_count": 62,
   "metadata": {
    "id": "d9VnqZQJM2kF"
   },
   "outputs": [],
   "source": [
    "# Define the base URL for Goodreads book pages\n",
    "w = 'https://www.goodreads.com/book/show/'\n",
    "\n",
    "# Create a new column 'web' in the DataFrame (df) by concatenating the base URL with the existing book IDs\n",
    "df['web'] = w + df['book_id'].astype(str)"
   ]
  },
  {
   "cell_type": "code",
   "execution_count": 63,
   "metadata": {
    "colab": {
     "base_uri": "https://localhost:8080/",
     "height": 1000
    },
    "id": "4TiieZ4sdwD1",
    "outputId": "42d14cb6-043b-4e3a-c387-f6601a3e7bc7"
   },
   "outputs": [
    {
     "data": {
      "text/html": [
       "<div>\n",
       "<style scoped>\n",
       "    .dataframe tbody tr th:only-of-type {\n",
       "        vertical-align: middle;\n",
       "    }\n",
       "\n",
       "    .dataframe tbody tr th {\n",
       "        vertical-align: top;\n",
       "    }\n",
       "\n",
       "    .dataframe thead th {\n",
       "        text-align: right;\n",
       "    }\n",
       "</style>\n",
       "<table border=\"1\" class=\"dataframe\">\n",
       "  <thead>\n",
       "    <tr style=\"text-align: right;\">\n",
       "      <th></th>\n",
       "      <th>user_id</th>\n",
       "      <th>book_id</th>\n",
       "      <th>review_id</th>\n",
       "      <th>rating</th>\n",
       "      <th>review_text</th>\n",
       "      <th>date_added</th>\n",
       "      <th>date_updated</th>\n",
       "      <th>read_at</th>\n",
       "      <th>started_at</th>\n",
       "      <th>n_votes</th>\n",
       "      <th>n_comments</th>\n",
       "      <th>web</th>\n",
       "    </tr>\n",
       "  </thead>\n",
       "  <tbody>\n",
       "    <tr>\n",
       "      <th>0</th>\n",
       "      <td>341</td>\n",
       "      <td>18245960</td>\n",
       "      <td>8745</td>\n",
       "      <td>5</td>\n",
       "      <td>This is a special book. It started slow for ab...</td>\n",
       "      <td>Sun Jul 30 07:44:10 -0700 2017</td>\n",
       "      <td>Wed Aug 30 00:00:26 -0700 2017</td>\n",
       "      <td>Sat Aug 26 12:05:52 -0700 2017</td>\n",
       "      <td>Tue Aug 15 13:23:18 -0700 2017</td>\n",
       "      <td>28</td>\n",
       "      <td>1</td>\n",
       "      <td>https://www.goodreads.com/book/show/18245960</td>\n",
       "    </tr>\n",
       "    <tr>\n",
       "      <th>1</th>\n",
       "      <td>341</td>\n",
       "      <td>5577844</td>\n",
       "      <td>3238</td>\n",
       "      <td>5</td>\n",
       "      <td>A beautiful story. Neil Gaiman is truly a uniq...</td>\n",
       "      <td>Wed Sep 24 09:29:29 -0700 2014</td>\n",
       "      <td>Wed Oct 01 00:31:56 -0700 2014</td>\n",
       "      <td>Tue Sep 30 00:00:00 -0700 2014</td>\n",
       "      <td>Sun Sep 21 00:00:00 -0700 2014</td>\n",
       "      <td>5</td>\n",
       "      <td>1</td>\n",
       "      <td>https://www.goodreads.com/book/show/5577844</td>\n",
       "    </tr>\n",
       "    <tr>\n",
       "      <th>2</th>\n",
       "      <td>341</td>\n",
       "      <td>17315048</td>\n",
       "      <td>5282</td>\n",
       "      <td>5</td>\n",
       "      <td>Mark Watney is a steely-eyed missile man. A ma...</td>\n",
       "      <td>Sat Apr 05 09:30:53 -0700 2014</td>\n",
       "      <td>Wed Mar 22 11:33:10 -0700 2017</td>\n",
       "      <td>Mon Aug 25 00:00:00 -0700 2014</td>\n",
       "      <td>Sat Aug 16 00:00:00 -0700 2014</td>\n",
       "      <td>25</td>\n",
       "      <td>5</td>\n",
       "      <td>https://www.goodreads.com/book/show/17315048</td>\n",
       "    </tr>\n",
       "    <tr>\n",
       "      <th>3</th>\n",
       "      <td>341</td>\n",
       "      <td>13453029</td>\n",
       "      <td>2764</td>\n",
       "      <td>4</td>\n",
       "      <td>A fun fast paced book that sucks you in right ...</td>\n",
       "      <td>Tue Dec 04 11:12:22 -0800 2012</td>\n",
       "      <td>Sat Jul 26 11:43:28 -0700 2014</td>\n",
       "      <td>Tue Jul 08 00:00:00 -0700 2014</td>\n",
       "      <td>Wed Jul 02 00:00:00 -0700 2014</td>\n",
       "      <td>5</td>\n",
       "      <td>1</td>\n",
       "      <td>https://www.goodreads.com/book/show/13453029</td>\n",
       "    </tr>\n",
       "    <tr>\n",
       "      <th>4</th>\n",
       "      <td>341</td>\n",
       "      <td>13239822</td>\n",
       "      <td>6420</td>\n",
       "      <td>3</td>\n",
       "      <td>This book has a great premise, and is full of ...</td>\n",
       "      <td>Mon Jul 02 16:04:16 -0700 2012</td>\n",
       "      <td>Wed Mar 22 11:32:20 -0700 2017</td>\n",
       "      <td>Wed Aug 15 00:00:00 -0700 2012</td>\n",
       "      <td>Sun Aug 12 00:00:00 -0700 2012</td>\n",
       "      <td>7</td>\n",
       "      <td>0</td>\n",
       "      <td>https://www.goodreads.com/book/show/13239822</td>\n",
       "    </tr>\n",
       "    <tr>\n",
       "      <th>...</th>\n",
       "      <td>...</td>\n",
       "      <td>...</td>\n",
       "      <td>...</td>\n",
       "      <td>...</td>\n",
       "      <td>...</td>\n",
       "      <td>...</td>\n",
       "      <td>...</td>\n",
       "      <td>...</td>\n",
       "      <td>...</td>\n",
       "      <td>...</td>\n",
       "      <td>...</td>\n",
       "      <td>...</td>\n",
       "    </tr>\n",
       "    <tr>\n",
       "      <th>9995</th>\n",
       "      <td>456</td>\n",
       "      <td>26168646</td>\n",
       "      <td>635</td>\n",
       "      <td>4</td>\n",
       "      <td>*I got this book from Netgalley in exchange fo...</td>\n",
       "      <td>Wed Sep 14 13:16:05 -0700 2016</td>\n",
       "      <td>Thu Jan 26 08:48:05 -0800 2017</td>\n",
       "      <td>Sun Jan 22 00:00:00 -0800 2017</td>\n",
       "      <td>Fri Jan 20 00:00:00 -0800 2017</td>\n",
       "      <td>9</td>\n",
       "      <td>0</td>\n",
       "      <td>https://www.goodreads.com/book/show/26168646</td>\n",
       "    </tr>\n",
       "    <tr>\n",
       "      <th>9996</th>\n",
       "      <td>456</td>\n",
       "      <td>6426708</td>\n",
       "      <td>4314</td>\n",
       "      <td>4</td>\n",
       "      <td>I quite enjoyed Carmilla. Obviously, there was...</td>\n",
       "      <td>Mon Sep 12 13:03:13 -0700 2016</td>\n",
       "      <td>Tue Oct 25 11:44:22 -0700 2016</td>\n",
       "      <td>Fri Oct 07 00:00:00 -0700 2016</td>\n",
       "      <td>Thu Oct 06 00:00:00 -0700 2016</td>\n",
       "      <td>4</td>\n",
       "      <td>0</td>\n",
       "      <td>https://www.goodreads.com/book/show/6426708</td>\n",
       "    </tr>\n",
       "    <tr>\n",
       "      <th>9997</th>\n",
       "      <td>456</td>\n",
       "      <td>30809786</td>\n",
       "      <td>6475</td>\n",
       "      <td>0</td>\n",
       "      <td>Hmm... You can't be serious... 2018????? This ...</td>\n",
       "      <td>Sun Sep 11 07:22:09 -0700 2016</td>\n",
       "      <td>Sun Sep 11 08:28:23 -0700 2016</td>\n",
       "      <td></td>\n",
       "      <td></td>\n",
       "      <td>0</td>\n",
       "      <td>0</td>\n",
       "      <td>https://www.goodreads.com/book/show/30809786</td>\n",
       "    </tr>\n",
       "    <tr>\n",
       "      <th>9998</th>\n",
       "      <td>456</td>\n",
       "      <td>22296822</td>\n",
       "      <td>2948</td>\n",
       "      <td>2</td>\n",
       "      <td>RTC</td>\n",
       "      <td>Mon Aug 29 17:00:10 -0700 2016</td>\n",
       "      <td>Sun Mar 05 03:46:03 -0800 2017</td>\n",
       "      <td>Tue Feb 28 00:00:00 -0800 2017</td>\n",
       "      <td>Sun Feb 19 00:00:00 -0800 2017</td>\n",
       "      <td>1</td>\n",
       "      <td>0</td>\n",
       "      <td>https://www.goodreads.com/book/show/22296822</td>\n",
       "    </tr>\n",
       "    <tr>\n",
       "      <th>9999</th>\n",
       "      <td>456</td>\n",
       "      <td>25892051</td>\n",
       "      <td>7715</td>\n",
       "      <td>3</td>\n",
       "      <td>This book needs a lot of editing. Word repetit...</td>\n",
       "      <td>Tue Dec 01 11:03:48 -0800 2015</td>\n",
       "      <td>Tue Dec 22 13:22:48 -0800 2015</td>\n",
       "      <td>Sun Dec 20 00:00:00 -0800 2015</td>\n",
       "      <td>Sat Dec 12 00:00:00 -0800 2015</td>\n",
       "      <td>3</td>\n",
       "      <td>0</td>\n",
       "      <td>https://www.goodreads.com/book/show/25892051</td>\n",
       "    </tr>\n",
       "  </tbody>\n",
       "</table>\n",
       "<p>10000 rows × 12 columns</p>\n",
       "</div>"
      ],
      "text/plain": [
       "      user_id   book_id  review_id  rating  \\\n",
       "0         341  18245960       8745       5   \n",
       "1         341   5577844       3238       5   \n",
       "2         341  17315048       5282       5   \n",
       "3         341  13453029       2764       4   \n",
       "4         341  13239822       6420       3   \n",
       "...       ...       ...        ...     ...   \n",
       "9995      456  26168646        635       4   \n",
       "9996      456   6426708       4314       4   \n",
       "9997      456  30809786       6475       0   \n",
       "9998      456  22296822       2948       2   \n",
       "9999      456  25892051       7715       3   \n",
       "\n",
       "                                            review_text  \\\n",
       "0     This is a special book. It started slow for ab...   \n",
       "1     A beautiful story. Neil Gaiman is truly a uniq...   \n",
       "2     Mark Watney is a steely-eyed missile man. A ma...   \n",
       "3     A fun fast paced book that sucks you in right ...   \n",
       "4     This book has a great premise, and is full of ...   \n",
       "...                                                 ...   \n",
       "9995  *I got this book from Netgalley in exchange fo...   \n",
       "9996  I quite enjoyed Carmilla. Obviously, there was...   \n",
       "9997  Hmm... You can't be serious... 2018????? This ...   \n",
       "9998                                                RTC   \n",
       "9999  This book needs a lot of editing. Word repetit...   \n",
       "\n",
       "                          date_added                    date_updated  \\\n",
       "0     Sun Jul 30 07:44:10 -0700 2017  Wed Aug 30 00:00:26 -0700 2017   \n",
       "1     Wed Sep 24 09:29:29 -0700 2014  Wed Oct 01 00:31:56 -0700 2014   \n",
       "2     Sat Apr 05 09:30:53 -0700 2014  Wed Mar 22 11:33:10 -0700 2017   \n",
       "3     Tue Dec 04 11:12:22 -0800 2012  Sat Jul 26 11:43:28 -0700 2014   \n",
       "4     Mon Jul 02 16:04:16 -0700 2012  Wed Mar 22 11:32:20 -0700 2017   \n",
       "...                              ...                             ...   \n",
       "9995  Wed Sep 14 13:16:05 -0700 2016  Thu Jan 26 08:48:05 -0800 2017   \n",
       "9996  Mon Sep 12 13:03:13 -0700 2016  Tue Oct 25 11:44:22 -0700 2016   \n",
       "9997  Sun Sep 11 07:22:09 -0700 2016  Sun Sep 11 08:28:23 -0700 2016   \n",
       "9998  Mon Aug 29 17:00:10 -0700 2016  Sun Mar 05 03:46:03 -0800 2017   \n",
       "9999  Tue Dec 01 11:03:48 -0800 2015  Tue Dec 22 13:22:48 -0800 2015   \n",
       "\n",
       "                             read_at                      started_at  n_votes  \\\n",
       "0     Sat Aug 26 12:05:52 -0700 2017  Tue Aug 15 13:23:18 -0700 2017       28   \n",
       "1     Tue Sep 30 00:00:00 -0700 2014  Sun Sep 21 00:00:00 -0700 2014        5   \n",
       "2     Mon Aug 25 00:00:00 -0700 2014  Sat Aug 16 00:00:00 -0700 2014       25   \n",
       "3     Tue Jul 08 00:00:00 -0700 2014  Wed Jul 02 00:00:00 -0700 2014        5   \n",
       "4     Wed Aug 15 00:00:00 -0700 2012  Sun Aug 12 00:00:00 -0700 2012        7   \n",
       "...                              ...                             ...      ...   \n",
       "9995  Sun Jan 22 00:00:00 -0800 2017  Fri Jan 20 00:00:00 -0800 2017        9   \n",
       "9996  Fri Oct 07 00:00:00 -0700 2016  Thu Oct 06 00:00:00 -0700 2016        4   \n",
       "9997                                                                        0   \n",
       "9998  Tue Feb 28 00:00:00 -0800 2017  Sun Feb 19 00:00:00 -0800 2017        1   \n",
       "9999  Sun Dec 20 00:00:00 -0800 2015  Sat Dec 12 00:00:00 -0800 2015        3   \n",
       "\n",
       "      n_comments                                           web  \n",
       "0              1  https://www.goodreads.com/book/show/18245960  \n",
       "1              1   https://www.goodreads.com/book/show/5577844  \n",
       "2              5  https://www.goodreads.com/book/show/17315048  \n",
       "3              1  https://www.goodreads.com/book/show/13453029  \n",
       "4              0  https://www.goodreads.com/book/show/13239822  \n",
       "...          ...                                           ...  \n",
       "9995           0  https://www.goodreads.com/book/show/26168646  \n",
       "9996           0   https://www.goodreads.com/book/show/6426708  \n",
       "9997           0  https://www.goodreads.com/book/show/30809786  \n",
       "9998           0  https://www.goodreads.com/book/show/22296822  \n",
       "9999           0  https://www.goodreads.com/book/show/25892051  \n",
       "\n",
       "[10000 rows x 12 columns]"
      ]
     },
     "execution_count": 63,
     "metadata": {},
     "output_type": "execute_result"
    }
   ],
   "source": [
    "df"
   ]
  },
  {
   "cell_type": "code",
   "execution_count": 64,
   "metadata": {
    "id": "HMfvGe9wdwD1"
   },
   "outputs": [],
   "source": [
    "# Concatenating 'web' and 'book_id' columns to create a new 'book_names' column\n",
    "df[\"book_names\"] = df[\"web\"]+ df[\"book_id\"].astype(str)"
   ]
  },
  {
   "cell_type": "code",
   "execution_count": 65,
   "metadata": {
    "id": "JjlTAsANdwD2"
   },
   "outputs": [],
   "source": [
    "# Dropping the 'web' column from the DataFrame\n",
    "df = df.drop('web', axis = 1)"
   ]
  },
  {
   "cell_type": "markdown",
   "metadata": {
    "id": "wH4VidYRl0SP"
   },
   "source": [
    "# Converting date added column to extract year from it"
   ]
  },
  {
   "cell_type": "code",
   "execution_count": 66,
   "metadata": {
    "id": "yRT0L4ehelzg"
   },
   "outputs": [],
   "source": [
    "# Import the requests library to send HTTP requests and handle the response\n",
    "import requests\n",
    "\n",
    "# Import the random library to generate random numbers and random selections\n",
    "import random\n",
    "\n",
    "# Import the urlopen function from the urllib.request module to open URLs\n",
    "from urllib.request import urlopen\n",
    "\n",
    "# Import the BeautifulSoup class from the bs4 module for web scraping and parsing HTML\n",
    "from bs4 import BeautifulSoup"
   ]
  },
  {
   "cell_type": "markdown",
   "metadata": {
    "id": "oios4d1uufF7"
   },
   "source": [
    "Web Scraping Book Information from Goodreads\n",
    "\n"
   ]
  },
  {
   "cell_type": "code",
   "execution_count": 67,
   "metadata": {
    "colab": {
     "base_uri": "https://localhost:8080/"
    },
    "id": "RGLI0j8Kelzg",
    "outputId": "bb40a9ea-8dcd-4498-e542-9802e4b25953"
   },
   "outputs": [],
   "source": [
    "# # Sending a GET request to the Goodreads URL and creating a BeautifulSoup object\n",
    "# reqs = requests.get(\"https://www.goodreads.com/book/show/5577844\")\n",
    "# soup = BeautifulSoup(urlopen(\"https://www.goodreads.com/book/show/18245960\"))\n",
    "# # soup.find(\"p\", {\"data-testid\": \"publicationInfo\"}).text\n",
    "\n",
    "# # Extracting the publication year from the page\n",
    "# int(soup.find(\"p\", {\"data-testid\": \"publicationInfo\"}).text[-4:])\n"
   ]
  },
  {
   "cell_type": "code",
   "execution_count": 68,
   "metadata": {
    "colab": {
     "base_uri": "https://localhost:8080/",
     "height": 35
    },
    "id": "TVWCnofT6BTt",
    "outputId": "2b0252b1-80d8-4126-dc74-2c1e89d16562"
   },
   "outputs": [],
   "source": [
    "# Extracting the book title from the page\n",
    "#soup.find(\"h1\",{\"class\":\"Text Text__title1\"}).text"
   ]
  },
  {
   "cell_type": "code",
   "execution_count": 69,
   "metadata": {
    "colab": {
     "base_uri": "https://localhost:8080/"
    },
    "id": "VEBVAAE342H7",
    "outputId": "d36acdaa-6329-4c06-f0a9-4faee9b3828c"
   },
   "outputs": [],
   "source": [
    "# Extracting the number of pages from the page\n",
    "#int(soup.find(\"p\",{\"data-testid\":\"pagesFormat\"}).text.split(\"pages\")[0].strip())"
   ]
  },
  {
   "cell_type": "code",
   "execution_count": 70,
   "metadata": {
    "colab": {
     "base_uri": "https://localhost:8080/",
     "height": 35
    },
    "id": "gcN3sGPR4RkQ",
    "outputId": "ac13d35e-bf70-455f-ac5b-252a0e3a95f5"
   },
   "outputs": [],
   "source": [
    "# Extracting the author's name from the page\n",
    "#soup.find(\"span\",{\"class\":\"ContributorLink__name\",\"data-testid\":\"name\"}).text"
   ]
  },
  {
   "cell_type": "code",
   "execution_count": 71,
   "metadata": {
    "colab": {
     "base_uri": "https://localhost:8080/",
     "height": 35
    },
    "id": "0MW3FsQk23HM",
    "outputId": "d62ecbbe-9435-4bce-c18c-ddd0fb86b1fd"
   },
   "outputs": [],
   "source": [
    "# Extracting the number of reviews from the page\n",
    "#soup.find(\"span\",{\"data-testid\":\"reviewsCount\"}).text"
   ]
  },
  {
   "cell_type": "code",
   "execution_count": 72,
   "metadata": {
    "colab": {
     "base_uri": "https://localhost:8080/"
    },
    "id": "kZtIHrzKoe_Z",
    "outputId": "64b0108f-aca8-4b4d-f200-eeec3e4e885c"
   },
   "outputs": [],
   "source": [
    "# Extracting the average rating from the page\n",
    "#float(soup.find(\"div\",{\"class\":\"RatingStatistics__rating\"}).text)"
   ]
  },
  {
   "cell_type": "markdown",
   "metadata": {
    "id": "Xrt91OJOuB3b"
   },
   "source": [
    "We collect the following Things from the website which we further utilize to build our data model:\n",
    "\n",
    "1) Book Title\n",
    "\n",
    "2) Ratings (Average)\n",
    "\n",
    "3) Total Ratings\n",
    "\n",
    "4) Page count\n",
    "\n",
    "5) Authors\n",
    "\n",
    "6) Publish Date\n",
    "\n",
    "7) Review Count"
   ]
  },
  {
   "cell_type": "code",
   "execution_count": 73,
   "metadata": {
    "colab": {
     "base_uri": "https://localhost:8080/"
    },
    "id": "PpfFL9nmYPs0",
    "outputId": "0b296c0e-97c1-4257-d1d1-0808653cb9b2"
   },
   "outputs": [
    {
     "data": {
      "text/plain": [
       "6465"
      ]
     },
     "execution_count": 73,
     "metadata": {},
     "output_type": "execute_result"
    }
   ],
   "source": [
    "# Given there are unique book ids,we now take only unique ids from our dataset\n",
    "ids=np.unique(df['book_id'])\n",
    "\n",
    "len(ids)"
   ]
  },
  {
   "cell_type": "code",
   "execution_count": 74,
   "metadata": {
    "id": "IXfaNY552aIT"
   },
   "outputs": [],
   "source": [
    "# Creating empty lists to store book data\n",
    "title = []\n",
    "mapped_id = []\n",
    "avg_rating = []\n",
    "page_count = []\n",
    "author = []\n",
    "publish_date = []\n",
    "review_count = []"
   ]
  },
  {
   "cell_type": "markdown",
   "metadata": {
    "id": "9si4C1utgAA2"
   },
   "source": [
    "## Running the following commented code collects the data from the web url. \n",
    "\n",
    "(This code takes 8+ hours to collect the data points)"
   ]
  },
  {
   "cell_type": "code",
   "execution_count": 75,
   "metadata": {
    "id": "fyTgLHYVdwD4"
   },
   "outputs": [],
   "source": [
    "# # Defining the URL and selecting the first book id from the ids array\n",
    "# url = \"https://www.goodreads.com/book/show/\"\n",
    "# link = url + str(ids[0])\n",
    "\n",
    "# # Scraping the webpage for the book and extracting the publication year\n",
    "# soup = BeautifulSoup(urlopen(link))\n",
    "# pub_year = int(soup.find(\"p\", {\"data-testid\": \"publicationInfo\"}).text[-4:])\n",
    "\n",
    "# title=[]\n",
    "# mapped_id=[]\n",
    "# avg_rating=[]\n",
    "# page_count=[]\n",
    "# author=[]\n",
    "# publish_date=[]\n",
    "# review_count=[]\n",
    "\n",
    "# url=\"https://www.goodreads.com/book/show/\"\n",
    "\n",
    "# for id in ids:\n",
    "#   link=url+str(id)\n",
    "#   try:\n",
    "#     soup = BeautifulSoup(urlopen(link))\n",
    "#   except:\n",
    "#     print(id)\n",
    "#     continue\n",
    "#   try:\n",
    "#     mapped_id.append(id)\n",
    "#   except:\n",
    "#     mapped_id.append(\"NF\")\n",
    "#   try:\n",
    "#     publish_date.append(int(soup.find(\"p\", {\"data-testid\": \"publicationInfo\"}).text[-4:]))\n",
    "#   except:\n",
    "#     publish_date.append(\"NF\")\n",
    "#   try:\n",
    "#     title.append(soup.find(\"h1\",{\"class\":\"Text Text__title1\"}).text)\n",
    "#   except:\n",
    "#     title.append(\"NF\")\n",
    "#   try:\n",
    "#     review_count.append(soup.find(\"span\",{\"data-testid\":\"reviewsCount\"}).text)\n",
    "#   except:\n",
    "#     review_count.append(\"NF\")\n",
    "#   try:\n",
    "#     avg_rating.append(float(soup.find(\"div\",{\"class\":\"RatingStatistics__rating\"}).text))\n",
    "#   except:\n",
    "#     avg_rating.append(\"NF\")  \n",
    "#   try:\n",
    "#     author.append(soup.find(\"span\",{\"class\":\"ContributorLink__name\",\"data-testid\":\"name\"}).text)\n",
    "#   except:\n",
    "#     author.append(\"NF\")\n",
    "#   try:\n",
    "#     page_count.append(int(soup.find(\"p\",{\"data-testid\":\"pagesFormat\"}).text.split(\"pages\")[0].strip()))\n",
    "#   except:\n",
    "#     page_count.append(\"NF\")\n",
    "\n",
    "# d=pd.DataFrame()\n",
    "# d['id']=mapped_id\n",
    "# d['book']=title\n",
    "# d['#pages']=page_count\n",
    "# d['author']=author\n",
    "# d['publish_year']=publish_date\n",
    "# d['review_count']=review_count\n",
    "# d['avg_rating']=avg_rating\n",
    "\n",
    "# d.to_csv(\"book-1.csv\")\n"
   ]
  },
  {
   "cell_type": "code",
   "execution_count": null,
   "metadata": {
    "id": "RuCAdchiyLH-"
   },
   "outputs": [],
   "source": []
  },
  {
   "cell_type": "code",
   "execution_count": null,
   "metadata": {},
   "outputs": [],
   "source": []
  },
  {
   "cell_type": "markdown",
   "metadata": {
    "id": "JRG5i2fEgcop"
   },
   "source": [
    "# ----------------- Data Exploration and Analysis ------------------"
   ]
  },
  {
   "cell_type": "code",
   "execution_count": 76,
   "metadata": {
    "id": "OPy-tt8zhCsp"
   },
   "outputs": [],
   "source": [
    "#Import Libraries\n",
    "import os\n",
    "import pandas as pd\n",
    "import numpy as np\n",
    "import matplotlib.pyplot as plt\n",
    "import seaborn as sns\n",
    "from scipy.stats import norm\n",
    "from sklearn import preprocessing"
   ]
  },
  {
   "cell_type": "markdown",
   "metadata": {
    "id": "QmPW3-gvg2T3"
   },
   "source": [
    "## We save the information collected in this dataframe and load it accordingly"
   ]
  },
  {
   "cell_type": "code",
   "execution_count": 77,
   "metadata": {},
   "outputs": [],
   "source": [
    "# Download the books-1.csv file from the specified GitHub repository and save it as books-1.csv\n",
    "import requests\n",
    "\n",
    "url = \"https://raw.githubusercontent.com/ManitaPasi/INFO-7390-Final-Project/main/books-1.csv\"\n",
    "response = requests.get(url)\n",
    "\n",
    "with open(\"books-1.csv\", \"wb\") as f:\n",
    "    f.write(response.content)"
   ]
  },
  {
   "cell_type": "code",
   "execution_count": 78,
   "metadata": {
    "id": "uf03O7o17Ozy"
   },
   "outputs": [],
   "source": [
    "# Reading CSV file and storing the data in a pandas DataFrame\n",
    "data = pd.read_csv(\"books-1.csv\",on_bad_lines='skip')"
   ]
  },
  {
   "cell_type": "code",
   "execution_count": 79,
   "metadata": {
    "colab": {
     "base_uri": "https://localhost:8080/",
     "height": 774
    },
    "id": "ahqAPyg_hjWk",
    "outputId": "61922dd6-57c8-4338-884d-bcc8bd56819a"
   },
   "outputs": [
    {
     "data": {
      "text/html": [
       "<div>\n",
       "<style scoped>\n",
       "    .dataframe tbody tr th:only-of-type {\n",
       "        vertical-align: middle;\n",
       "    }\n",
       "\n",
       "    .dataframe tbody tr th {\n",
       "        vertical-align: top;\n",
       "    }\n",
       "\n",
       "    .dataframe thead th {\n",
       "        text-align: right;\n",
       "    }\n",
       "</style>\n",
       "<table border=\"1\" class=\"dataframe\">\n",
       "  <thead>\n",
       "    <tr style=\"text-align: right;\">\n",
       "      <th></th>\n",
       "      <th>bookID</th>\n",
       "      <th>title</th>\n",
       "      <th>authors</th>\n",
       "      <th>average_rating</th>\n",
       "      <th>isbn</th>\n",
       "      <th>isbn13</th>\n",
       "      <th>language_code</th>\n",
       "      <th># num_pages</th>\n",
       "      <th>ratings_count</th>\n",
       "      <th>text_reviews_count</th>\n",
       "    </tr>\n",
       "  </thead>\n",
       "  <tbody>\n",
       "    <tr>\n",
       "      <th>0</th>\n",
       "      <td>1</td>\n",
       "      <td>Harry Potter and the Half-Blood Prince (Harry ...</td>\n",
       "      <td>J.K. Rowling-Mary GrandPré</td>\n",
       "      <td>4.56</td>\n",
       "      <td>0439785960</td>\n",
       "      <td>9780439785969</td>\n",
       "      <td>eng</td>\n",
       "      <td>652</td>\n",
       "      <td>1944099</td>\n",
       "      <td>26249</td>\n",
       "    </tr>\n",
       "    <tr>\n",
       "      <th>1</th>\n",
       "      <td>2</td>\n",
       "      <td>Harry Potter and the Order of the Phoenix (Har...</td>\n",
       "      <td>J.K. Rowling-Mary GrandPré</td>\n",
       "      <td>4.49</td>\n",
       "      <td>0439358078</td>\n",
       "      <td>9780439358071</td>\n",
       "      <td>eng</td>\n",
       "      <td>870</td>\n",
       "      <td>1996446</td>\n",
       "      <td>27613</td>\n",
       "    </tr>\n",
       "    <tr>\n",
       "      <th>2</th>\n",
       "      <td>3</td>\n",
       "      <td>Harry Potter and the Sorcerer's Stone (Harry P...</td>\n",
       "      <td>J.K. Rowling-Mary GrandPré</td>\n",
       "      <td>4.47</td>\n",
       "      <td>0439554934</td>\n",
       "      <td>9780439554930</td>\n",
       "      <td>eng</td>\n",
       "      <td>320</td>\n",
       "      <td>5629932</td>\n",
       "      <td>70390</td>\n",
       "    </tr>\n",
       "    <tr>\n",
       "      <th>3</th>\n",
       "      <td>4</td>\n",
       "      <td>Harry Potter and the Chamber of Secrets (Harry...</td>\n",
       "      <td>J.K. Rowling</td>\n",
       "      <td>4.41</td>\n",
       "      <td>0439554896</td>\n",
       "      <td>9780439554893</td>\n",
       "      <td>eng</td>\n",
       "      <td>352</td>\n",
       "      <td>6267</td>\n",
       "      <td>272</td>\n",
       "    </tr>\n",
       "    <tr>\n",
       "      <th>4</th>\n",
       "      <td>5</td>\n",
       "      <td>Harry Potter and the Prisoner of Azkaban (Harr...</td>\n",
       "      <td>J.K. Rowling-Mary GrandPré</td>\n",
       "      <td>4.55</td>\n",
       "      <td>043965548X</td>\n",
       "      <td>9780439655484</td>\n",
       "      <td>eng</td>\n",
       "      <td>435</td>\n",
       "      <td>2149872</td>\n",
       "      <td>33964</td>\n",
       "    </tr>\n",
       "  </tbody>\n",
       "</table>\n",
       "</div>"
      ],
      "text/plain": [
       "   bookID                                              title  \\\n",
       "0       1  Harry Potter and the Half-Blood Prince (Harry ...   \n",
       "1       2  Harry Potter and the Order of the Phoenix (Har...   \n",
       "2       3  Harry Potter and the Sorcerer's Stone (Harry P...   \n",
       "3       4  Harry Potter and the Chamber of Secrets (Harry...   \n",
       "4       5  Harry Potter and the Prisoner of Azkaban (Harr...   \n",
       "\n",
       "                      authors  average_rating        isbn         isbn13  \\\n",
       "0  J.K. Rowling-Mary GrandPré            4.56  0439785960  9780439785969   \n",
       "1  J.K. Rowling-Mary GrandPré            4.49  0439358078  9780439358071   \n",
       "2  J.K. Rowling-Mary GrandPré            4.47  0439554934  9780439554930   \n",
       "3                J.K. Rowling            4.41  0439554896  9780439554893   \n",
       "4  J.K. Rowling-Mary GrandPré            4.55  043965548X  9780439655484   \n",
       "\n",
       "  language_code  # num_pages  ratings_count  text_reviews_count  \n",
       "0           eng          652        1944099               26249  \n",
       "1           eng          870        1996446               27613  \n",
       "2           eng          320        5629932               70390  \n",
       "3           eng          352           6267                 272  \n",
       "4           eng          435        2149872               33964  "
      ]
     },
     "execution_count": 79,
     "metadata": {},
     "output_type": "execute_result"
    }
   ],
   "source": [
    "# Displaying the first few rows of the DataFrame\n",
    "data.head()"
   ]
  },
  {
   "cell_type": "markdown",
   "metadata": {
    "id": "iSC6PwzBh7P0"
   },
   "source": [
    "## The dataset that contains information about the books, who wrote these books and other relevant information. Now that we know what our data looks like, let’s go ahead and find all the null values present in our data:"
   ]
  },
  {
   "cell_type": "code",
   "execution_count": 80,
   "metadata": {
    "colab": {
     "base_uri": "https://localhost:8080/"
    },
    "id": "JyXZzFOWhsn8",
    "outputId": "b50fc11d-f51a-4f31-ff05-a720928d8482"
   },
   "outputs": [
    {
     "data": {
      "text/plain": [
       "False"
      ]
     },
     "execution_count": 80,
     "metadata": {},
     "output_type": "execute_result"
    }
   ],
   "source": [
    "# Checking if there are any missing values in the DataFrame\n",
    "data.isnull().values.any() "
   ]
  },
  {
   "cell_type": "code",
   "execution_count": 81,
   "metadata": {
    "colab": {
     "base_uri": "https://localhost:8080/",
     "height": 300
    },
    "id": "VqkKzoi0h20Y",
    "outputId": "9117489a-7604-40ad-90d5-9c93ce8b7232"
   },
   "outputs": [
    {
     "data": {
      "text/html": [
       "<div>\n",
       "<style scoped>\n",
       "    .dataframe tbody tr th:only-of-type {\n",
       "        vertical-align: middle;\n",
       "    }\n",
       "\n",
       "    .dataframe tbody tr th {\n",
       "        vertical-align: top;\n",
       "    }\n",
       "\n",
       "    .dataframe thead th {\n",
       "        text-align: right;\n",
       "    }\n",
       "</style>\n",
       "<table border=\"1\" class=\"dataframe\">\n",
       "  <thead>\n",
       "    <tr style=\"text-align: right;\">\n",
       "      <th></th>\n",
       "      <th>bookID</th>\n",
       "      <th>average_rating</th>\n",
       "      <th>isbn13</th>\n",
       "      <th># num_pages</th>\n",
       "      <th>ratings_count</th>\n",
       "      <th>text_reviews_count</th>\n",
       "    </tr>\n",
       "  </thead>\n",
       "  <tbody>\n",
       "    <tr>\n",
       "      <th>count</th>\n",
       "      <td>13714.000000</td>\n",
       "      <td>13714.000000</td>\n",
       "      <td>1.371400e+04</td>\n",
       "      <td>13714.000000</td>\n",
       "      <td>1.371400e+04</td>\n",
       "      <td>13714.000000</td>\n",
       "    </tr>\n",
       "    <tr>\n",
       "      <th>mean</th>\n",
       "      <td>22159.859195</td>\n",
       "      <td>3.930620</td>\n",
       "      <td>9.764017e+12</td>\n",
       "      <td>342.402727</td>\n",
       "      <td>1.776540e+04</td>\n",
       "      <td>533.632128</td>\n",
       "    </tr>\n",
       "    <tr>\n",
       "      <th>std</th>\n",
       "      <td>13700.926816</td>\n",
       "      <td>0.357893</td>\n",
       "      <td>3.987679e+11</td>\n",
       "      <td>252.650165</td>\n",
       "      <td>1.129572e+05</td>\n",
       "      <td>2529.006691</td>\n",
       "    </tr>\n",
       "    <tr>\n",
       "      <th>min</th>\n",
       "      <td>1.000000</td>\n",
       "      <td>0.000000</td>\n",
       "      <td>8.987060e+09</td>\n",
       "      <td>0.000000</td>\n",
       "      <td>0.000000e+00</td>\n",
       "      <td>0.000000</td>\n",
       "    </tr>\n",
       "    <tr>\n",
       "      <th>25%</th>\n",
       "      <td>10619.250000</td>\n",
       "      <td>3.770000</td>\n",
       "      <td>9.780345e+12</td>\n",
       "      <td>196.000000</td>\n",
       "      <td>8.300000e+01</td>\n",
       "      <td>7.000000</td>\n",
       "    </tr>\n",
       "    <tr>\n",
       "      <th>50%</th>\n",
       "      <td>21321.500000</td>\n",
       "      <td>3.960000</td>\n",
       "      <td>9.780613e+12</td>\n",
       "      <td>301.000000</td>\n",
       "      <td>6.305000e+02</td>\n",
       "      <td>40.000000</td>\n",
       "    </tr>\n",
       "    <tr>\n",
       "      <th>75%</th>\n",
       "      <td>33311.750000</td>\n",
       "      <td>4.130000</td>\n",
       "      <td>9.780940e+12</td>\n",
       "      <td>421.000000</td>\n",
       "      <td>4.742250e+03</td>\n",
       "      <td>222.000000</td>\n",
       "    </tr>\n",
       "    <tr>\n",
       "      <th>max</th>\n",
       "      <td>47709.000000</td>\n",
       "      <td>5.000000</td>\n",
       "      <td>9.790008e+12</td>\n",
       "      <td>6576.000000</td>\n",
       "      <td>5.629932e+06</td>\n",
       "      <td>93619.000000</td>\n",
       "    </tr>\n",
       "  </tbody>\n",
       "</table>\n",
       "</div>"
      ],
      "text/plain": [
       "             bookID  average_rating        isbn13   # num_pages  \\\n",
       "count  13714.000000    13714.000000  1.371400e+04  13714.000000   \n",
       "mean   22159.859195        3.930620  9.764017e+12    342.402727   \n",
       "std    13700.926816        0.357893  3.987679e+11    252.650165   \n",
       "min        1.000000        0.000000  8.987060e+09      0.000000   \n",
       "25%    10619.250000        3.770000  9.780345e+12    196.000000   \n",
       "50%    21321.500000        3.960000  9.780613e+12    301.000000   \n",
       "75%    33311.750000        4.130000  9.780940e+12    421.000000   \n",
       "max    47709.000000        5.000000  9.790008e+12   6576.000000   \n",
       "\n",
       "       ratings_count  text_reviews_count  \n",
       "count   1.371400e+04        13714.000000  \n",
       "mean    1.776540e+04          533.632128  \n",
       "std     1.129572e+05         2529.006691  \n",
       "min     0.000000e+00            0.000000  \n",
       "25%     8.300000e+01            7.000000  \n",
       "50%     6.305000e+02           40.000000  \n",
       "75%     4.742250e+03          222.000000  \n",
       "max     5.629932e+06        93619.000000  "
      ]
     },
     "execution_count": 81,
     "metadata": {},
     "output_type": "execute_result"
    }
   ],
   "source": [
    "# Displaying information about the DataFrame, such as data type and non-null value count\n",
    "data.describe()"
   ]
  },
  {
   "cell_type": "markdown",
   "metadata": {
    "id": "-ke6XaUuiX-l"
   },
   "source": [
    "## From the results above, we can see that our scores are all between 0 and 5. We also get to know more about the other columns, such as the average of the mean scores and other information that might help us in the next steps. We also checked the data types of each column and also saw that there were no null values present in our data. "
   ]
  },
  {
   "cell_type": "markdown",
   "metadata": {
    "id": "7lroLs4LiFiY"
   },
   "source": [
    "##Drawing a Normal curve on the histograms could help understand the distribution type"
   ]
  },
  {
   "cell_type": "code",
   "execution_count": 82,
   "metadata": {
    "colab": {
     "base_uri": "https://localhost:8080/",
     "height": 1000
    },
    "id": "70W5doaLiJsF",
    "outputId": "1eb431d0-a6de-49b7-a1c4-16eff965d418"
   },
   "outputs": [
    {
     "data": {
      "image/png": "[encoded data removed]",
      "text/plain": [
       "<Figure size 576x576 with 1 Axes>"
      ]
     },
     "metadata": {
      "needs_background": "light"
     },
     "output_type": "display_data"
    },
    {
     "data": {
      "image/png": "[encoded data removed]",
      "text/plain": [
       "<Figure size 576x576 with 1 Axes>"
      ]
     },
     "metadata": {
      "needs_background": "light"
     },
     "output_type": "display_data"
    },
    {
     "data": {
      "image/png": "[encoded data removed]",
      "text/plain": [
       "<Figure size 576x576 with 1 Axes>"
      ]
     },
     "metadata": {
      "needs_background": "light"
     },
     "output_type": "display_data"
    }
   ],
   "source": [
    "# Importing required libraries\n",
    "import matplotlib.pyplot as plt\n",
    "import numpy as np\n",
    "from scipy.stats import norm\n",
    "\n",
    "# Defining a function to plot histograms with normal curve\n",
    "def plot_histogram_with_normal_curve(df_col, var_name, bins=20, color='b'):\n",
    "    d_mean, d_std = norm.fit(df_col)\n",
    "    plt.figure(figsize=(8, 8))\n",
    "    \n",
    "    # Plot histogram\n",
    "    plt.hist(df_col, bins, density=True, alpha=0.6, color=color)\n",
    "    \n",
    "    # Plot PDF\n",
    "    xmin, xmax = plt.xlim()\n",
    "    x_lin = np.linspace(xmin, xmax, 100)\n",
    "    pdf = norm.pdf(x_lin, d_mean, d_std)\n",
    "    plt.plot(x_lin, pdf, 'k', linewidth=2)\n",
    "    title = \"Fit results for [%s]: Mean = %.4f, Std. Dev. = %.4f\" % (var_name, d_mean, d_std)\n",
    "    plt.title(title)\n",
    "    plt.show()\n",
    "\n",
    "# Creating histogram with normal curve for # num_pages\n",
    "plot_histogram_with_normal_curve(data['# num_pages'], \"# num_pages\")\n",
    "\n",
    "# Creating histogram with normal curve for average_rating\n",
    "plot_histogram_with_normal_curve(data['average_rating'], \"average_rating\")\n",
    "\n",
    "# Creating histogram with normal curve for ratings_count\n",
    "plot_histogram_with_normal_curve(data['ratings_count'], \"ratings_count\")"
   ]
  },
  {
   "cell_type": "code",
   "execution_count": 83,
   "metadata": {
    "colab": {
     "base_uri": "https://localhost:8080/",
     "height": 1000
    },
    "id": "qojD_UJsiaQW",
    "outputId": "aed9353d-7d88-4f32-9fbe-d73e8f9a815b"
   },
   "outputs": [
    {
     "data": {
      "image/png": "[encoded data removed]",
      "text/plain": [
       "<Figure size 720x720 with 1 Axes>"
      ]
     },
     "metadata": {
      "needs_background": "light"
     },
     "output_type": "display_data"
    },
    {
     "data": {
      "image/png": "[encoded data removed]",
      "text/plain": [
       "<Figure size 720x720 with 1 Axes>"
      ]
     },
     "metadata": {
      "needs_background": "light"
     },
     "output_type": "display_data"
    }
   ],
   "source": [
    "# Importing required library\n",
    "import matplotlib.pyplot as plt\n",
    "\n",
    "# Creating a boxplot for the selected columns in the entire dataset\n",
    "plt.figure(figsize=(10, 10))\n",
    "data.boxplot(column=['# num_pages', 'average_rating', 'ratings_count', 'text_reviews_count'])\n",
    "plt.show()\n",
    "\n",
    "# Creating a boxplot for the selected columns in the filtered dataset\n",
    "df_filtered = data[data['ratings_count'] < 1000]\n",
    "plt.figure(figsize=(10, 10))\n",
    "df_filtered.boxplot(column=['# num_pages', 'average_rating', 'ratings_count', 'text_reviews_count'])\n",
    "plt.show()"
   ]
  },
  {
   "cell_type": "code",
   "execution_count": 84,
   "metadata": {
    "colab": {
     "base_uri": "https://localhost:8080/"
    },
    "id": "g-inWCTfibpO",
    "outputId": "98e61fe7-5f98-4095-e7dc-7665eddcab9d"
   },
   "outputs": [
    {
     "name": "stdout",
     "output_type": "stream",
     "text": [
      "               title          authors        isbn language_code\n",
      "count          13714            13714       13714         13714\n",
      "unique         12422             7600       13714            30\n",
      "top     'Salem's Lot  Agatha Christie  0439785960           eng\n",
      "freq              11               69           1         10594\n"
     ]
    }
   ],
   "source": [
    "# Defining the list of categorical variables\n",
    "categorical_vars = ['title', 'authors', 'isbn', 'language_code']\n",
    "\n",
    "# Generating descriptive statistics for the categorical variables\n",
    "cat_summary = data[categorical_vars].describe()\n",
    "\n",
    "# Printing the summary of categorical variables\n",
    "print(cat_summary)"
   ]
  },
  {
   "cell_type": "code",
   "execution_count": 85,
   "metadata": {
    "id": "QLfZ8uSbiet3"
   },
   "outputs": [],
   "source": [
    "# Importing required libraries\n",
    "import matplotlib.pyplot as plt\n",
    "import numpy as np\n",
    "from scipy.stats import norm\n",
    "\n",
    "# Defining a function to plot histograms with normal curve\n",
    "def PlotHistogramsWithNormalCurve(data, title):\n",
    "    # Create histogram\n",
    "    fig, ax = plt.subplots()\n",
    "    ax.hist(data, density=True, bins=25, alpha=0.6, color='b')\n",
    "\n",
    "    # Create a normal curve with the same mean and standard deviation as the data\n",
    "    mu, std = norm.fit(data)\n",
    "    xmin, xmax = plt.xlim()\n",
    "    x = np.linspace(xmin, xmax, 100)\n",
    "    p = norm.pdf(x, mu, std)\n",
    "    ax.plot(x, p, 'k', linewidth=2)\n",
    "\n",
    "    # Add labels and title\n",
    "    ax.set_xlabel('Value')\n",
    "    ax.set_ylabel('Frequency')\n",
    "    ax.set_title(title)\n",
    "\n",
    "    # Display the plot\n",
    "    plt.show()"
   ]
  },
  {
   "cell_type": "code",
   "execution_count": 86,
   "metadata": {
    "colab": {
     "base_uri": "https://localhost:8080/",
     "height": 480
    },
    "id": "5SzDETMjihXJ",
    "outputId": "9c33c47a-5473-438b-e893-2d992ec476a6"
   },
   "outputs": [
    {
     "data": {
      "image/png": "[encoded data removed]",
      "text/plain": [
       "<Figure size 432x288 with 1 Axes>"
      ]
     },
     "metadata": {
      "needs_background": "light"
     },
     "output_type": "display_data"
    }
   ],
   "source": [
    "#'average_rating' is Normally distributed\n",
    "PlotHistogramsWithNormalCurve(data['average_rating'], \"average_rating\")"
   ]
  },
  {
   "cell_type": "code",
   "execution_count": 87,
   "metadata": {
    "colab": {
     "base_uri": "https://localhost:8080/",
     "height": 480
    },
    "id": "ZasobDEYikK0",
    "outputId": "e5d006f7-6bf4-4dc0-833a-5be2de58705e"
   },
   "outputs": [
    {
     "data": {
      "image/png": "[encoded data removed]",
      "text/plain": [
       "<Figure size 432x288 with 1 Axes>"
      ]
     },
     "metadata": {
      "needs_background": "light"
     },
     "output_type": "display_data"
    }
   ],
   "source": [
    "#'ratings_count' is possibly left skewed but could there be extreme values in the distribution causing it to be skewed\n",
    "PlotHistogramsWithNormalCurve(data['ratings_count'], \"ratings_count\")"
   ]
  },
  {
   "cell_type": "markdown",
   "metadata": {
    "id": "EdLBhSYTiqKH"
   },
   "source": [
    "#Box-plots could help detect variables with outliers"
   ]
  },
  {
   "cell_type": "code",
   "execution_count": 88,
   "metadata": {
    "colab": {
     "base_uri": "https://localhost:8080/",
     "height": 852
    },
    "id": "MPMqw5yjinDS",
    "outputId": "3b21fab1-65c3-4321-a90a-a6224c8a677d"
   },
   "outputs": [
    {
     "data": {
      "image/png": "[encoded data removed]",
      "text/plain": [
       "<Figure size 720x720 with 1 Axes>"
      ]
     },
     "metadata": {
      "needs_background": "light"
     },
     "output_type": "display_data"
    }
   ],
   "source": [
    "# Importing required library\n",
    "import matplotlib.pyplot as plt\n",
    "\n",
    "# Creating a boxplot for the selected columns in the entire dataset\n",
    "plt.figure(figsize=(10, 10))\n",
    "data.boxplot(column=['# num_pages', 'average_rating', 'ratings_count', 'text_reviews_count'])\n",
    "\n",
    "# Displaying the boxplot\n",
    "plt.show()"
   ]
  },
  {
   "cell_type": "code",
   "execution_count": 89,
   "metadata": {
    "colab": {
     "base_uri": "https://localhost:8080/",
     "height": 836
    },
    "id": "yiP4wtHBit_k",
    "outputId": "a8ed1d4e-4938-4350-fb37-1462d0a1e99d"
   },
   "outputs": [
    {
     "data": {
      "image/png": "[encoded data removed]",
      "text/plain": [
       "<Figure size 720x720 with 1 Axes>"
      ]
     },
     "metadata": {
      "needs_background": "light"
     },
     "output_type": "display_data"
    }
   ],
   "source": [
    "# Importing required library\n",
    "import matplotlib.pyplot as plt\n",
    "\n",
    "# Filtering the data to include only rows with ratings_count less than 1000\n",
    "df2 = data[(data['ratings_count'] < 1000)]\n",
    "\n",
    "# Creating a boxplot for the selected columns\n",
    "plt.figure(figsize=(10, 10))\n",
    "df2.boxplot(column=['# num_pages', 'average_rating', 'ratings_count', 'text_reviews_count'])\n",
    "\n",
    "# Displaying the plot\n",
    "plt.show()"
   ]
  },
  {
   "cell_type": "code",
   "execution_count": 90,
   "metadata": {
    "colab": {
     "base_uri": "https://localhost:8080/",
     "height": 175
    },
    "id": "ya_Yp3GuiyGw",
    "outputId": "39f22a51-028c-47db-c0fa-f23fb715e03b"
   },
   "outputs": [
    {
     "data": {
      "text/html": [
       "<div>\n",
       "<style scoped>\n",
       "    .dataframe tbody tr th:only-of-type {\n",
       "        vertical-align: middle;\n",
       "    }\n",
       "\n",
       "    .dataframe tbody tr th {\n",
       "        vertical-align: top;\n",
       "    }\n",
       "\n",
       "    .dataframe thead th {\n",
       "        text-align: right;\n",
       "    }\n",
       "</style>\n",
       "<table border=\"1\" class=\"dataframe\">\n",
       "  <thead>\n",
       "    <tr style=\"text-align: right;\">\n",
       "      <th></th>\n",
       "      <th>title</th>\n",
       "      <th>authors</th>\n",
       "      <th>isbn</th>\n",
       "      <th>language_code</th>\n",
       "    </tr>\n",
       "  </thead>\n",
       "  <tbody>\n",
       "    <tr>\n",
       "      <th>count</th>\n",
       "      <td>13714</td>\n",
       "      <td>13714</td>\n",
       "      <td>13714</td>\n",
       "      <td>13714</td>\n",
       "    </tr>\n",
       "    <tr>\n",
       "      <th>unique</th>\n",
       "      <td>12422</td>\n",
       "      <td>7600</td>\n",
       "      <td>13714</td>\n",
       "      <td>30</td>\n",
       "    </tr>\n",
       "    <tr>\n",
       "      <th>top</th>\n",
       "      <td>'Salem's Lot</td>\n",
       "      <td>Agatha Christie</td>\n",
       "      <td>0439785960</td>\n",
       "      <td>eng</td>\n",
       "    </tr>\n",
       "    <tr>\n",
       "      <th>freq</th>\n",
       "      <td>11</td>\n",
       "      <td>69</td>\n",
       "      <td>1</td>\n",
       "      <td>10594</td>\n",
       "    </tr>\n",
       "  </tbody>\n",
       "</table>\n",
       "</div>"
      ],
      "text/plain": [
       "               title          authors        isbn language_code\n",
       "count          13714            13714       13714         13714\n",
       "unique         12422             7600       13714            30\n",
       "top     'Salem's Lot  Agatha Christie  0439785960           eng\n",
       "freq              11               69           1         10594"
      ]
     },
     "execution_count": 90,
     "metadata": {},
     "output_type": "execute_result"
    }
   ],
   "source": [
    "# Defining the list of categorical variables\n",
    "categoricalVars = ['title', 'authors', 'isbn', 'language_code']\n",
    "\n",
    "# Generating descriptive statistics for the categorical variables\n",
    "data[categoricalVars].describe()"
   ]
  },
  {
   "cell_type": "markdown",
   "metadata": {
    "id": "6Tk9Vrixi6QL"
   },
   "source": [
    "#We can infer details about unique values in these variables. Also some other info from the above table,\n",
    "\n",
    "#Looks like the top recurring book title is \"Salem's Lot\" (count of 11)\n",
    "#Agatha Christie is the author with the most books (count of 69)\n",
    "#Most of the books are in English (10594/13714)"
   ]
  },
  {
   "cell_type": "code",
   "execution_count": 91,
   "metadata": {
    "colab": {
     "base_uri": "https://localhost:8080/",
     "height": 484
    },
    "id": "v3NFl5XJwEdY",
    "outputId": "8bdd85ad-2eb7-478c-ad10-212d9e988e33"
   },
   "outputs": [
    {
     "data": {
      "image/png": "[encoded data removed]",
      "text/plain": [
       "<Figure size 864x576 with 1 Axes>"
      ]
     },
     "metadata": {
      "needs_background": "light"
     },
     "output_type": "display_data"
    }
   ],
   "source": [
    "# Importing required library\n",
    "import seaborn as sns\n",
    "\n",
    "# Selecting the top 10 rated books based on ratings_count\n",
    "top10Books = data.nlargest(10, ['ratings_count']).set_index('title')['ratings_count']\n",
    "\n",
    "# Setting plot dimensions and creating a bar plot\n",
    "plot_dims = (12, 8)\n",
    "fig, ax = plt.subplots(figsize=plot_dims)\n",
    "sns.barplot(x=top10Books, y=top10Books.index)\n",
    "\n",
    "# Adding the count labels to the plot\n",
    "for i in ax.patches:\n",
    "    ax.text(i.get_width() + 0.3, i.get_y() + 0.5, str(round(i.get_width())), fontsize=15, color='k')\n",
    "\n",
    "# Displaying the plot\n",
    "plt.show()"
   ]
  },
  {
   "cell_type": "code",
   "execution_count": 92,
   "metadata": {
    "colab": {
     "base_uri": "https://localhost:8080/",
     "height": 484
    },
    "id": "i2eAAckLi4zk",
    "outputId": "e1937150-cf73-493b-9706-623c3e013381"
   },
   "outputs": [
    {
     "data": {
      "image/png": "[encoded data removed]",
      "text/plain": [
       "<Figure size 864x576 with 1 Axes>"
      ]
     },
     "metadata": {
      "needs_background": "light"
     },
     "output_type": "display_data"
    }
   ],
   "source": [
    "# # Let's look at the top 10 rated books\n",
    "top10Books = data.nlargest(10, ['ratings_count']).set_index('title')['ratings_count']\n",
    "plot_dims = (12, 8)\n",
    "fig, ax = plt.subplots(figsize=plot_dims)\n",
    "sns.barplot(x=top10Books, y=top10Books.index)\n",
    "\n",
    "for i in ax.patches:\n",
    "    ax.text(i.get_width()+.3, i.get_y()+0.5, str(round(i.get_width())), fontsize = 15, color = 'k')\n",
    "    \n",
    "plt.show()"
   ]
  },
  {
   "cell_type": "markdown",
   "metadata": {
    "id": "O0QguKFQiwm_"
   },
   "source": [
    "## The results above show us the top 10 books in our data. We saw that the max score in our data was 5.0 but we don’t see any books in the above result with a score of 5.0. Indeed, we have filtered these books according to the number of notes. We’ve made sure that all of the books we have in the above results have a decent rating. There may be books in the data that may have only 1 or 2 notes may be rated 5.0. We want to avoid such books, which is why we used this type of filtering."
   ]
  },
  {
   "cell_type": "code",
   "execution_count": 93,
   "metadata": {
    "colab": {
     "base_uri": "https://localhost:8080/",
     "height": 807
    },
    "id": "pfulvDZ6jAXV",
    "outputId": "0a93ce02-2607-498b-f066-cb2ba9eb084b"
   },
   "outputs": [
    {
     "data": {
      "image/png": "[encoded data removed]",
      "text/plain": [
       "<Figure size 720x720 with 1 Axes>"
      ]
     },
     "metadata": {},
     "output_type": "display_data"
    }
   ],
   "source": [
    "# Books categorized based on languages (Top 7)\n",
    "data['language_code'].value_counts().head(7).plot(kind = 'pie', figsize=(10, 10)).legend()\n",
    "plt.show()"
   ]
  },
  {
   "cell_type": "markdown",
   "metadata": {
    "id": "yBcDKxuNi64v"
   },
   "source": [
    "## Let’s go ahead and take a look at some of the top authors in our data. We’ll rank them according to the number of books they’ve written as long as those books are present in the data"
   ]
  },
  {
   "cell_type": "code",
   "execution_count": 94,
   "metadata": {
    "colab": {
     "base_uri": "https://localhost:8080/",
     "height": 728
    },
    "id": "t-Wvqh_uN-px",
    "outputId": "d406defe-30e6-4ecf-bacd-0ba93cd2b3ca"
   },
   "outputs": [
    {
     "name": "stdout",
     "output_type": "stream",
     "text": [
      "7600\n",
      "                             title\n",
      "authors                           \n",
      "J.R.R. Tolkien                  31\n",
      "Dan Simmons                     32\n",
      "Margaret Weis-Tracy Hickman     33\n",
      "Piers Anthony                   34\n",
      "Terry Brooks                    40\n",
      "P.G. Wodehouse                  42\n",
      "Rumiko Takahashi                46\n",
      "Orson Scott Card                48\n",
      "Stephen King                    66\n",
      "Agatha Christie                 69\n"
     ]
    },
    {
     "data": {
      "image/png": "[encoded data removed]",
      "text/plain": [
       "<Figure size 360x360 with 1 Axes>"
      ]
     },
     "metadata": {
      "needs_background": "light"
     },
     "output_type": "display_data"
    }
   ],
   "source": [
    "# Which authors wrote the most books (peek into the top 10)?\n",
    "\n",
    "# Get the unique authors from the 'authors' column in the dataset\n",
    "allAuthors = data.authors.unique()\n",
    "\n",
    "# Create an array of positions for plotting, with the same length as the number of unique authors\n",
    "y_pos = np.arange(len(allAuthors))\n",
    "\n",
    "# Print the total number of unique authors\n",
    "print(len(allAuthors))\n",
    "\n",
    "# Group the dataset by 'authors', count the number of books (using the 'title' column), and store the result in top10Authors\n",
    "top10Authors = data[['authors', 'title']].groupby(['authors']).count()\n",
    "\n",
    "# Sort the top10Authors DataFrame by the number of books in ascending order\n",
    "top10Authors = top10Authors.sort_values(by=['title'], ascending=True)\n",
    "\n",
    "# Select the top 10 authors with the most books\n",
    "top10Authors = top10Authors.tail(10)\n",
    "\n",
    "# Print the top 10 authors with the most books\n",
    "print(top10Authors)\n",
    "\n",
    "# Create a horizontal bar chart to visualize the top 10 authors with the most books\n",
    "plt.figure(figsize=(5, 5))\n",
    "y_NoTitles = top10Authors['title']\n",
    "plt.barh(top10Authors.index.values, y_NoTitles, 0.8, align='center', alpha=0.5, color='blue')\n",
    "\n",
    "# Label the x-axis\n",
    "plt.xlabel(\"Title's count\")\n",
    "\n",
    "# Add a title to the chart\n",
    "plt.title('Top 10 Authors with more published books')\n",
    "\n",
    "# Set the y-axis ticks to the author names\n",
    "plt.yticks(top10Authors.index.values, top10Authors.index.values)\n",
    "\n",
    "# Display the chart\n",
    "plt.show()"
   ]
  },
  {
   "cell_type": "markdown",
   "metadata": {
    "id": "XPqrflvbjN-P"
   },
   "source": [
    "#Feature engineering: Based on our domain knowledge and insights from EDA, we have created new features or modify existing ones to improve the predictive performance of your models"
   ]
  },
  {
   "cell_type": "code",
   "execution_count": 95,
   "metadata": {
    "id": "JWaZD_RFjK-V"
   },
   "outputs": [],
   "source": [
    "#1.Create a feature for the author's total number of books:\n",
    "\n",
    "author_books_count = data['authors'].value_counts().to_dict()\n",
    "data['author_total_books'] = data['authors'].apply(lambda x: author_books_count[x])"
   ]
  },
  {
   "cell_type": "code",
   "execution_count": 96,
   "metadata": {
    "id": "AnfiJamrjUno"
   },
   "outputs": [],
   "source": [
    "#2.Create a feature for the book's title length:\n",
    "\n",
    "data['title_length'] = data['title'].apply(lambda x: len(x))"
   ]
  },
  {
   "cell_type": "code",
   "execution_count": 97,
   "metadata": {
    "id": "soyjfJFQjY6l"
   },
   "outputs": [],
   "source": [
    "#3. Extract publication year from the title and create a new feature:\n",
    "\n",
    "import re\n",
    "\n",
    "def extract_year(title):\n",
    "    year = re.findall(r'\\(([1-2][0-9]{3})\\)', title)\n",
    "    if year:\n",
    "        return int(year[0])\n",
    "    else:\n",
    "        return None\n",
    "\n",
    "data['publication_year'] = data['title'].apply(extract_year)\n"
   ]
  },
  {
   "cell_type": "code",
   "execution_count": 98,
   "metadata": {
    "id": "yTFPnKz6jZ1X"
   },
   "outputs": [],
   "source": [
    "#4. Create a feature for the book's average rating bin:\n",
    "# change \n",
    "\n",
    "def rating_bin(rating):\n",
    "\n",
    "    if rating < 3.5:\n",
    "        return 0\n",
    "    elif rating >= 3.5 and rating < 4:\n",
    "        return 1\n",
    "    elif rating >= 4: \n",
    "        return 2\n",
    "\n",
    "data['average_rating_bin'] = data['average_rating'].apply(rating_bin)"
   ]
  },
  {
   "cell_type": "code",
   "execution_count": 99,
   "metadata": {
    "id": "GdZSi6IiwB2m"
   },
   "outputs": [],
   "source": [
    "data_orig=data.copy()"
   ]
  },
  {
   "cell_type": "code",
   "execution_count": 100,
   "metadata": {
    "id": "dJWUHDmUjb66"
   },
   "outputs": [],
   "source": [
    "# Drop unnecessary columns\n",
    "data.drop(['bookID','isbn', 'isbn13', 'title', 'authors'], axis=1, inplace=True)\n",
    "\n",
    "# Replace missing values in publication_year with median value\n",
    "median_year = data['publication_year'].median()\n",
    "data['publication_year'].fillna(median_year, inplace=True)\n",
    "\n",
    "# Convert publication_year and num_pages columns to integers\n",
    "data['publication_year'] = data['publication_year'].astype(int)\n",
    "data['# num_pages'] = data['# num_pages'].astype(int)\n",
    "\n",
    "# One-hot encode the language_code column\n",
    "data = pd.get_dummies(data, columns=['language_code'])"
   ]
  },
  {
   "cell_type": "code",
   "execution_count": 101,
   "metadata": {
    "colab": {
     "base_uri": "https://localhost:8080/"
    },
    "id": "xIAf4xnT76IF",
    "outputId": "d1f2f37e-2d27-46db-8805-ce23a1f24ca3"
   },
   "outputs": [
    {
     "data": {
      "text/plain": [
       "0        2\n",
       "1        2\n",
       "2        2\n",
       "3        2\n",
       "4        2\n",
       "        ..\n",
       "13709    1\n",
       "13710    1\n",
       "13711    1\n",
       "13712    2\n",
       "13713    2\n",
       "Name: average_rating_bin, Length: 13714, dtype: int64"
      ]
     },
     "execution_count": 101,
     "metadata": {},
     "output_type": "execute_result"
    }
   ],
   "source": [
    "data[\"average_rating_bin\"] "
   ]
  },
  {
   "cell_type": "code",
   "execution_count": 102,
   "metadata": {
    "id": "5XIB32ZG8vfr"
   },
   "outputs": [],
   "source": [
    "from sklearn.utils import resample\n",
    "import pandas as pd\n",
    "\n",
    "# Assuming your dataset is a pandas dataframe named 'data'\n",
    "# Separate data by class\n",
    "class_0 = data[data['average_rating_bin'] == 0]\n",
    "class_1 = data[data['average_rating_bin'] == 2]\n",
    "class_2 = data[data['average_rating_bin'] == 1]\n",
    "\n",
    "# Resample the classes with fewer samples\n",
    "n_samples = len(class_0)\n",
    "class_1_resampled = resample(class_1, replace=True, n_samples=n_samples, random_state=42)\n",
    "class_2_resampled = resample(class_2, replace=True, n_samples=n_samples, random_state=42)\n",
    "\n",
    "# Combine the resampled classes with the original class\n",
    "resampled_data = pd.concat([class_0, class_1_resampled, class_2_resampled])"
   ]
  },
  {
   "cell_type": "code",
   "execution_count": 103,
   "metadata": {
    "colab": {
     "base_uri": "https://localhost:8080/",
     "height": 452
    },
    "id": "RJS6iIEu853q",
    "outputId": "538388cf-89eb-4afe-f0e6-122e9a4d8579"
   },
   "outputs": [
    {
     "data": {
      "text/plain": [
       "<AxesSubplot:>"
      ]
     },
     "execution_count": 103,
     "metadata": {},
     "output_type": "execute_result"
    },
    {
     "data": {
      "image/png": "[encoded data removed]",
      "text/plain": [
       "<Figure size 432x288 with 1 Axes>"
      ]
     },
     "metadata": {
      "needs_background": "light"
     },
     "output_type": "display_data"
    }
   ],
   "source": [
    "resampled_data[\"average_rating_bin\"].hist()"
   ]
  },
  {
   "cell_type": "code",
   "execution_count": 104,
   "metadata": {
    "id": "joodX9l14VDQ"
   },
   "outputs": [],
   "source": [
    "# from google.colab import drive\n",
    "# drive.mount('/content/drive')"
   ]
  },
  {
   "cell_type": "code",
   "execution_count": null,
   "metadata": {
    "id": "ASlw64YzxtGI"
   },
   "outputs": [],
   "source": []
  },
  {
   "cell_type": "markdown",
   "metadata": {
    "id": "cQuc7-F3WU-D"
   },
   "source": [
    "# **Data Modeling**"
   ]
  },
  {
   "cell_type": "markdown",
   "metadata": {
    "id": "xsJdcpExwmGK"
   },
   "source": [
    "# ********************************Classification Models ****************************"
   ]
  },
  {
   "cell_type": "markdown",
   "metadata": {
    "id": "SjCN-kASWgNA"
   },
   "source": [
    "1. Implementation of an XGBoost model in Python for a classification problem"
   ]
  },
  {
   "cell_type": "code",
   "execution_count": 105,
   "metadata": {},
   "outputs": [
    {
     "name": "stdout",
     "output_type": "stream",
     "text": [
      "Requirement already satisfied: xgboost in /Users/manitapasi/opt/anaconda3/lib/python3.9/site-packages (1.7.5)\r\n",
      "Requirement already satisfied: numpy in /Users/manitapasi/opt/anaconda3/lib/python3.9/site-packages (from xgboost) (1.20.3)\r\n",
      "Requirement already satisfied: scipy in /Users/manitapasi/opt/anaconda3/lib/python3.9/site-packages (from xgboost) (1.7.1)\r\n"
     ]
    }
   ],
   "source": [
    "!pip install xgboost"
   ]
  },
  {
   "cell_type": "code",
   "execution_count": 106,
   "metadata": {
    "colab": {
     "base_uri": "https://localhost:8080/"
    },
    "id": "KYnJs8b67QB_",
    "outputId": "3498afdc-8511-4bf4-fd27-f35a87aefb08"
   },
   "outputs": [
    {
     "name": "stdout",
     "output_type": "stream",
     "text": [
      "F1_score:  0.5485916151220471\n",
      "Recall:  0.6606822262118492\n",
      "Precision:  0.49329758713136734\n",
      "Accuracy: 66.07%\n"
     ]
    },
    {
     "name": "stderr",
     "output_type": "stream",
     "text": [
      "/Users/manitapasi/opt/anaconda3/lib/python3.9/site-packages/sklearn/metrics/_classification.py:1248: UndefinedMetricWarning: Precision is ill-defined and being set to 0.0 in labels with no predicted samples. Use `zero_division` parameter to control this behavior.\n",
      "  _warn_prf(average, modifier, msg_start, len(result))\n"
     ]
    }
   ],
   "source": [
    "# Importing required libraries\n",
    "import pandas as pd\n",
    "import xgboost as xgb\n",
    "from sklearn.model_selection import train_test_split\n",
    "from sklearn.metrics import accuracy_score,f1_score,recall_score,precision_score\n",
    "\n",
    "# Loading the data and assigning features and target\n",
    "data = resampled_data\n",
    "X = resampled_data.drop(\"average_rating_bin\",axis = 1)\n",
    "Y = resampled_data[\"average_rating_bin\"]\n",
    "\n",
    "# Splitting the data into training and testing sets\n",
    "X_train, X_test, y_train, y_test = train_test_split(X,Y, test_size=0.2, random_state=42)\n",
    "\n",
    "# Converting data to XGBoost DMatrix format\n",
    "dtrain = xgb.DMatrix(X_train, label=y_train)\n",
    "dtest = xgb.DMatrix(X_test, label=y_test)\n",
    "\n",
    "# Defining XGBoost parameters\n",
    "params = {\n",
    "    'max_depth': 3,\n",
    "    'objective': 'reg:squarederror',\n",
    "    'eval_metric': 'logloss'\n",
    "}\n",
    "\n",
    "# Training the XGBoost model\n",
    "num_rounds = 100\n",
    "model = xgb.train(params, dtrain, num_rounds)\n",
    "\n",
    "# Making predictions on testing data\n",
    "y_pred = model.predict(dtest)\n",
    "y_pred_binary = [1 if x > 0.5 else 0 for x in y_pred]\n",
    "\n",
    "# Evaluating model performance\n",
    "accuracy = accuracy_score(y_test, y_pred_binary)\n",
    "print(\"F1_score: \" ,(f1_score(np.array(y_test),y_pred_binary,average='weighted')))\n",
    "print(\"Recall: \", recall_score(np.array(y_test),y_pred_binary,average='weighted'))\n",
    "print(\"Precision: \", precision_score(np.array(y_test),y_pred_binary,average='weighted'))\n",
    "print(\"Accuracy: %.2f%%\" % (accuracy * 100.0))"
   ]
  },
  {
   "cell_type": "markdown",
   "metadata": {
    "id": "aiNJlW-MWjYI"
   },
   "source": [
    "2. Implementation of a Support Vector Machine (SVM) model for a classification problem"
   ]
  },
  {
   "cell_type": "code",
   "execution_count": 107,
   "metadata": {
    "colab": {
     "base_uri": "https://localhost:8080/"
    },
    "id": "WEj3AkP71_8y",
    "outputId": "dd0be5e5-aa31-4eb5-9223-3b4afa82119c"
   },
   "outputs": [
    {
     "name": "stdout",
     "output_type": "stream",
     "text": [
      "F1_score:  0.9175787691361349\n",
      "Recall:  0.9174147217235189\n",
      "Precision:  0.917846908407371\n",
      "Accuracy: 91.74%\n"
     ]
    }
   ],
   "source": [
    "# Importing required libraries\n",
    "import pandas as pd\n",
    "from sklearn.model_selection import train_test_split\n",
    "from sklearn.svm import SVC\n",
    "from sklearn.metrics import accuracy_score\n",
    "from sklearn.preprocessing import StandardScaler\n",
    "\n",
    "# Loading the data and assigning features and target\n",
    "data = resampled_data\n",
    "X = resampled_data.drop(\"average_rating_bin\",axis=1)\n",
    "y = resampled_data[\"average_rating_bin\"]\n",
    "\n",
    "# Splitting the data into training and testing sets\n",
    "X_train, X_test, y_train, y_test = train_test_split(X, y, test_size=0.2, random_state=42)\n",
    "\n",
    "# Scaling the data using StandardScaler\n",
    "scaler = StandardScaler()\n",
    "X_train = scaler.fit_transform(X_train)\n",
    "X_test = scaler.transform(X_test)\n",
    "\n",
    "# Defining SVM model with radial basis function kernel\n",
    "svm = SVC(kernel='rbf', C=1.0, gamma='scale', random_state=42)\n",
    "\n",
    "# Training the SVM model\n",
    "svm.fit(X_train, y_train)\n",
    "\n",
    "# Making predictions on testing data\n",
    "y_pred = svm.predict(X_test)\n",
    "\n",
    "# Evaluating model performance\n",
    "accuracy = accuracy_score(y_test, y_pred)\n",
    "print(\"F1_score: \" ,(f1_score(np.array(y_test),y_pred,average='weighted')))\n",
    "print(\"Recall: \", recall_score(np.array(y_test),y_pred,average='weighted'))\n",
    "print(\"Precision: \", precision_score(np.array(y_test),y_pred,average='weighted'))\n",
    "print(\"Accuracy: %.2f%%\" % (accuracy * 100.0))\n"
   ]
  },
  {
   "cell_type": "markdown",
   "metadata": {
    "id": "PI-hF4hkWxtZ"
   },
   "source": [
    "3. Implementation of a k-Nearest Neighbors (KNN) model for a classification problem"
   ]
  },
  {
   "cell_type": "code",
   "execution_count": 108,
   "metadata": {
    "colab": {
     "base_uri": "https://localhost:8080/"
    },
    "id": "7rcDbGpJ6paR",
    "outputId": "776cb5d3-d148-414e-b6f0-4c3f7a28a24f"
   },
   "outputs": [
    {
     "name": "stdout",
     "output_type": "stream",
     "text": [
      "F1_score:  0.8622971225628427\n",
      "Recall:  0.8617594254937163\n",
      "Precision:  0.8641118941676778\n",
      "Accuracy: 86.18%\n"
     ]
    }
   ],
   "source": [
    "# Importing required libraries\n",
    "from sklearn.neighbors import KNeighborsClassifier\n",
    "from sklearn.model_selection import train_test_split\n",
    "from sklearn.metrics import accuracy_score,f1_score,recall_score,precision_score\n",
    "from sklearn.preprocessing import StandardScaler\n",
    "import pandas as pd\n",
    "\n",
    "# Load data\n",
    "data = resampled_data\n",
    "X = resampled_data.drop(\"average_rating_bin\",axis=1)\n",
    "y = resampled_data[\"average_rating_bin\"]\n",
    "\n",
    "# Split data into training and testing sets\n",
    "X_train, X_test, y_train, y_test = train_test_split(X, y, test_size=0.2, random_state=42)\n",
    "\n",
    "# Scale the data using StandardScaler\n",
    "scaler = StandardScaler()\n",
    "X_train = scaler.fit_transform(X_train)\n",
    "X_test = scaler.transform(X_test)\n",
    "\n",
    "# Define KNN model\n",
    "knn = KNeighborsClassifier(n_neighbors=5)\n",
    "\n",
    "# Train KNN model\n",
    "knn.fit(X_train, y_train)\n",
    "\n",
    "# Make predictions on testing data\n",
    "y_pred = knn.predict(X_test)\n",
    "\n",
    "# Evaluate model performance\n",
    "accuracy = accuracy_score(y_test, y_pred)\n",
    "print(\"F1_score: \" ,(f1_score(np.array(y_test),y_pred,average='weighted')))\n",
    "print(\"Recall: \", recall_score(np.array(y_test),y_pred,average='weighted'))\n",
    "print(\"Precision: \", precision_score(np.array(y_test),y_pred,average='weighted'))\n",
    "print(\"Accuracy: %.2f%%\" % (accuracy * 100.0))\n"
   ]
  },
  {
   "cell_type": "markdown",
   "metadata": {
    "id": "FomGS5TnXEq2"
   },
   "source": [
    "4. Gaussian Naive Bayes (NB) classifier for a classification problem"
   ]
  },
  {
   "cell_type": "code",
   "execution_count": 109,
   "metadata": {
    "colab": {
     "base_uri": "https://localhost:8080/"
    },
    "id": "WG5MhQN7_Uvr",
    "outputId": "5774f9f9-9ce1-4976-8b15-54417f319058"
   },
   "outputs": [
    {
     "name": "stdout",
     "output_type": "stream",
     "text": [
      "F1_score:  0.2809504309190875\n",
      "Recall:  0.3791866028708134\n",
      "Precision:  0.4845839506037299\n",
      "Accuracy: 37.92%\n"
     ]
    }
   ],
   "source": [
    "# Importing required libraries\n",
    "from sklearn.naive_bayes import GaussianNB\n",
    "from sklearn.model_selection import train_test_split\n",
    "from sklearn.metrics import accuracy_score\n",
    "from sklearn.preprocessing import StandardScaler\n",
    "import pandas as pd\n",
    "\n",
    "# Load dataset\n",
    "data = resampled_data\n",
    "X = resampled_data.drop(\"average_rating_bin\",axis=1)\n",
    "y = resampled_data[\"average_rating_bin\"]\n",
    "\n",
    "# Split data into training and testing sets\n",
    "X_train, X_test, y_train, y_test = train_test_split(X, y, test_size=0.3, random_state=42)\n",
    "\n",
    "# Create a Naive Bayes classifier\n",
    "clf = GaussianNB()\n",
    "\n",
    "# Train the classifier on the training data\n",
    "clf.fit(X_train, y_train)\n",
    "\n",
    "# Predict the classes of the testing data\n",
    "y_pred = clf.predict(X_test)\n",
    "\n",
    "# Calculate the accuracy of the classifier\n",
    "accuracy = clf.score(X_test, y_test)\n",
    "\n",
    "# Evaluate model performance\n",
    "accuracy = accuracy_score(y_test, y_pred)\n",
    "print(\"F1_score: \" ,(f1_score(np.array(y_test),y_pred,average='weighted')))\n",
    "print(\"Recall: \", recall_score(np.array(y_test),y_pred,average='weighted'))\n",
    "print(\"Precision: \", precision_score(np.array(y_test),y_pred,average='weighted'))\n",
    "print(\"Accuracy: %.2f%%\" % (accuracy * 100.0))"
   ]
  },
  {
   "cell_type": "markdown",
   "metadata": {
    "id": "l_kWVLidYJxi"
   },
   "source": [
    "5. k-Nearest Neighbors (KNN) classifier with Grid Search Cross Validation for a classification problem"
   ]
  },
  {
   "cell_type": "code",
   "execution_count": 110,
   "metadata": {
    "colab": {
     "base_uri": "https://localhost:8080/"
    },
    "id": "sRBgQO2UE7s0",
    "outputId": "6550e817-56ab-4477-cc6e-f4bdc03fb1eb"
   },
   "outputs": [
    {
     "name": "stdout",
     "output_type": "stream",
     "text": [
      "Best Hyperparameters:  {'n_neighbors': 11, 'p': 1}\n",
      "Best Accuracy Score:  86.86138026497923\n",
      "F1_score:  0.8709319072795947\n",
      "Recall:  0.8708133971291866\n",
      "Precision:  0.8720715882991847\n",
      "Accuracy: 87.08%\n"
     ]
    }
   ],
   "source": [
    "# Importing required libraries\n",
    "from sklearn.neighbors import KNeighborsClassifier\n",
    "from sklearn.model_selection import train_test_split\n",
    "from sklearn.metrics import accuracy_score\n",
    "from sklearn.preprocessing import StandardScaler\n",
    "import pandas as pd\n",
    "from sklearn.model_selection import train_test_split, GridSearchCV\n",
    "\n",
    "# Load dataset\n",
    "data = resampled_data\n",
    "X = resampled_data.drop(\"average_rating_bin\",axis=1)\n",
    "y = resampled_data[\"average_rating_bin\"]\n",
    "\n",
    "# Split data into training and testing sets\n",
    "X_train, X_test, y_train, y_test = train_test_split(X, y, test_size=0.3, random_state=42)\n",
    "\n",
    "# Feature scaling\n",
    "scaler = StandardScaler()\n",
    "X_train = scaler.fit_transform(X_train)\n",
    "X_test = scaler.transform(X_test)\n",
    "\n",
    "# Create a KNN classifier\n",
    "knn = KNeighborsClassifier()\n",
    "\n",
    "# Define the hyperparameter grid\n",
    "param_grid = {'n_neighbors': [3, 5, 7, 9, 11], 'p': [1, 2, 3, 4]}\n",
    "\n",
    "# Perform GridSearchCV to find the best hyperparameters\n",
    "grid = GridSearchCV(knn, param_grid, cv=5)\n",
    "grid.fit(X_train, y_train)\n",
    "\n",
    "# Print the best hyperparameters and the corresponding accuracy score\n",
    "print(\"Best Hyperparameters: \", grid.best_params_)\n",
    "print(\"Best Accuracy Score: \", grid.best_score_ * 100.0)\n",
    "\n",
    "# Use the best model to make predictions on the test set\n",
    "y_pred = grid.predict(X_test)\n",
    "\n",
    "# Evaluate model performance\n",
    "accuracy = accuracy_score(y_test, y_pred)\n",
    "print(\"F1_score: \" ,(f1_score(np.array(y_test),y_pred,average='weighted')))\n",
    "print(\"Recall: \", recall_score(np.array(y_test),y_pred,average='weighted'))\n",
    "print(\"Precision: \", precision_score(np.array(y_test),y_pred,average='weighted'))\n",
    "print(\"Accuracy: %.2f%%\" % (accuracy * 100.0))"
   ]
  },
  {
   "cell_type": "markdown",
   "metadata": {
    "id": "a72fNTkfYigw"
   },
   "source": [
    "6. Gaussian Naive Bayes (NB) classifier with Grid Search Cross Validation for a classification problem"
   ]
  },
  {
   "cell_type": "code",
   "execution_count": 111,
   "metadata": {
    "colab": {
     "base_uri": "https://localhost:8080/"
    },
    "id": "N3tEpru4KS37",
    "outputId": "d3e62424-2607-488d-cfd9-3d3838dbf74e"
   },
   "outputs": [
    {
     "name": "stdout",
     "output_type": "stream",
     "text": [
      "Best Hyperparameters:  {'var_smoothing': 1e-08}\n",
      "Best Accuracy Score:  38.03836266561202\n",
      "F1_score:  0.2716601642587689\n",
      "Recall:  0.37440191387559807\n",
      "Precision:  0.5134745070084424\n",
      "Accuracy: 37.44%\n"
     ]
    }
   ],
   "source": [
    "# Importing required libraries\n",
    "from sklearn.naive_bayes import GaussianNB\n",
    "from sklearn.model_selection import train_test_split\n",
    "from sklearn.metrics import accuracy_score\n",
    "from sklearn.preprocessing import StandardScaler\n",
    "import pandas as pd\n",
    "from sklearn.model_selection import GridSearchCV\n",
    "\n",
    "# Load dataset\n",
    "data = resampled_data\n",
    "X = resampled_data.drop(\"average_rating_bin\",axis=1)\n",
    "y = resampled_data[\"average_rating_bin\"]\n",
    "\n",
    "# Split data into training and testing sets\n",
    "X_train, X_test, y_train, y_test = train_test_split(X, y, test_size=0.3, random_state=42)\n",
    "\n",
    "# Create a Naive Bayes classifier\n",
    "clf = GaussianNB()\n",
    "\n",
    "# Define the hyperparameter grid\n",
    "param_grid = {'var_smoothing': [1e-9, 1e-8, 1e-7, 1e-6, 1e-5]}\n",
    "\n",
    "# Perform GridSearchCV to find the best hyperparameters\n",
    "grid = GridSearchCV(clf, param_grid, cv=5)\n",
    "grid.fit(X_train, y_train)\n",
    "\n",
    "# Print the best hyperparameters and the corresponding accuracy score\n",
    "print(\"Best Hyperparameters: \", grid.best_params_)\n",
    "print(\"Best Accuracy Score: \", grid.best_score_ * 100.0)\n",
    "\n",
    "# Train the classifier on the training data using the best hyperparameters\n",
    "clf = GaussianNB(var_smoothing=grid.best_params_['var_smoothing'])\n",
    "clf.fit(X_train, y_train)\n",
    "\n",
    "# Predict the classes of the testing data\n",
    "y_pred = clf.predict(X_test)\n",
    "\n",
    "# Calculate the accuracy of the classifier\n",
    "accuracy = accuracy_score(y_test, y_pred)\n",
    "\n",
    "# Evaluate model performance\n",
    "accuracy = accuracy_score(y_test, y_pred)\n",
    "print(\"F1_score: \" ,(f1_score(np.array(y_test),y_pred,average='weighted')))\n",
    "print(\"Recall: \", recall_score(np.array(y_test),y_pred,average='weighted'))\n",
    "print(\"Precision: \", precision_score(np.array(y_test),y_pred,average='weighted'))\n",
    "print(\"Accuracy: %.2f%%\" % (accuracy * 100.0))"
   ]
  },
  {
   "cell_type": "code",
   "execution_count": 112,
   "metadata": {
    "id": "ptA5HzaoXhht"
   },
   "outputs": [],
   "source": [
    "# Combine selected features from the DataFrame 'X' into a new DataFrame called 'features'\n",
    "# The selected features are 'ratings_count', 'text_reviews_count', 'average_rating', and 'author_total_books'\n",
    "# The 'pd.concat' function is used to concatenate these columns along the horizontal axis (axis=1)\n",
    "features = pd.concat([X['ratings_count'], \n",
    "                      X['text_reviews_count'], \n",
    "                      X['average_rating'], \n",
    "                      X['author_total_books']], axis=1)"
   ]
  },
  {
   "cell_type": "code",
   "execution_count": 113,
   "metadata": {
    "id": "ISq954ipo1nh"
   },
   "outputs": [],
   "source": [
    "# Import the MinMaxScaler class from the sklearn.preprocessing module\n",
    "from sklearn.preprocessing import MinMaxScaler\n",
    "\n",
    "# Create an instance of the MinMaxScaler class\n",
    "min_max_scaler = MinMaxScaler()\n",
    "\n",
    "# Apply the MinMaxScaler to the 'features' DataFrame\n",
    "# This scales the feature values to a range of [0, 1] for each column\n",
    "# The fit_transform() method computes the minimum and maximum values for each feature, and then scales the data accordingly\n",
    "features = min_max_scaler.fit_transform(features)"
   ]
  },
  {
   "cell_type": "code",
   "execution_count": 114,
   "metadata": {
    "id": "G4kqjC6KOym5"
   },
   "outputs": [],
   "source": [
    "# Import the NearestNeighbors class from the sklearn.neighbors module\n",
    "from sklearn.neighbors import NearestNeighbors\n",
    "\n",
    "# Create an instance of the NearestNeighbors class with 6 nearest neighbors and the 'ball_tree' algorithm\n",
    "model = NearestNeighbors(n_neighbors=6, algorithm='ball_tree')\n",
    "\n",
    "# Fit the model to the 'features' data\n",
    "model.fit(features)\n",
    "\n",
    "# Find the nearest neighbors for each data point in 'features'\n",
    "# The kneighbors() method returns two arrays: 'dist' contains the distances to the nearest neighbors,\n",
    "# and 'idlist' contains the indices of the nearest neighbors\n",
    "dist, idlist = model.kneighbors(features)"
   ]
  },
  {
   "cell_type": "code",
   "execution_count": 115,
   "metadata": {
    "id": "JWJVGF2Ctkd0"
   },
   "outputs": [],
   "source": [
    "# Import additional libraries\n",
    "import matplotlib.pyplot as plt\n",
    "import numpy as np\n",
    "from sklearn.model_selection import GridSearchCV"
   ]
  },
  {
   "cell_type": "code",
   "execution_count": 116,
   "metadata": {
    "id": "EonDdjwYtncf"
   },
   "outputs": [],
   "source": [
    "# Perform hyperparameter tuning for all models\n",
    "# Split the dataset into training and testing sets with a 70:30 ratio\n",
    "X_train, X_test, y_train, y_test = train_test_split(X, y, test_size=0.3, random_state=42)\n",
    "\n",
    "\n",
    "# XGBoost\n",
    "# Define a parameter grid for hyperparameter tuning\n",
    "xgb_params = {'max_depth': [8, 13], 'learning_rate': [0.1, 0.5], 'n_estimators': [50, 100]}\n",
    "\n",
    "# Create an instance of the XGBClassifier\n",
    "xgb_model = xgb.XGBClassifier()\n",
    "\n",
    "# Perform a grid search with 5-fold cross-validation using the parameter grid\n",
    "grid_search_xgb = GridSearchCV(estimator=xgb_model, param_grid=xgb_params, cv=5)\n",
    "\n",
    "# Fit the grid search model to the training data\n",
    "grid_search_xgb.fit(X_train, y_train)\n",
    "\n",
    "# Get the best estimator (model) found by the grid search\n",
    "best_xgb = grid_search_xgb.best_estimator_\n",
    "\n",
    "\n",
    "\n",
    "# SVM\n",
    "# Define a parameter grid for hyperparameter tuning\n",
    "svm_params = {'C': [0.1, 1, 10], 'gamma': ['scale', 0.1, 1, 10]}\n",
    "\n",
    "# Create an instance of the SVC (Support Vector Classifier) with the 'rbf' kernel\n",
    "svm_model = SVC(kernel='rbf')\n",
    "\n",
    "# Perform a grid search with 5-fold cross-validation using the parameter grid\n",
    "grid_search_svm = GridSearchCV(estimator=svm_model, param_grid=svm_params, cv=5)\n",
    "\n",
    "# Fit the grid search model to the training data\n",
    "grid_search_svm.fit(X_train, y_train)\n",
    "\n",
    "# Get the best estimator (model) found by the grid search\n",
    "best_svm = grid_search_svm.best_estimator_\n",
    "\n",
    "\n",
    "\n",
    "# KNN\n",
    "# Define a parameter grid for hyperparameter tuning\n",
    "knn_params = {'n_neighbors': [3, 5, 7, 9]}\n",
    "\n",
    "# Create an instance of the KNeighborsClassifier\n",
    "knn_model = KNeighborsClassifier()\n",
    "\n",
    "# Perform a grid search with 5-fold cross-validation using the parameter grid\n",
    "grid_search_knn = GridSearchCV(estimator=knn_model, param_grid=knn_params, cv=5)\n",
    "\n",
    "# Fit the grid search model to the training data\n",
    "grid_search_knn.fit(X_train, y_train)\n",
    "\n",
    "# Get the best estimator (model) found by the grid search\n",
    "best_knn = grid_search_knn.best_estimator_"
   ]
  },
  {
   "cell_type": "markdown",
   "metadata": {
    "id": "dNzyTgm82rUc"
   },
   "source": [
    "## Accuracy is chosen as the main performance metric for these algorithms. The reason is that accuracy is a simple and intuitive metric that measures the proportion of correct predictions out of the total predictions made by the model. It works well for balanced datasets where the target classes have similar frequencies. Since the dataset is resampled to balance the classes, accuracy is a suitable performance metric in this case."
   ]
  },
  {
   "cell_type": "code",
   "execution_count": 117,
   "metadata": {
    "colab": {
     "base_uri": "https://localhost:8080/",
     "height": 747
    },
    "id": "qLE53r92NE8X",
    "outputId": "41c1aaf4-7795-447e-dda2-4239b12fa8e0"
   },
   "outputs": [
    {
     "name": "stderr",
     "output_type": "stream",
     "text": [
      "/Users/manitapasi/opt/anaconda3/lib/python3.9/site-packages/sklearn/metrics/_classification.py:1248: UndefinedMetricWarning: Precision is ill-defined and being set to 0.0 in labels with no predicted samples. Use `zero_division` parameter to control this behavior.\n",
      "  _warn_prf(average, modifier, msg_start, len(result))\n"
     ]
    },
    {
     "data": {
      "image/png": "[encoded data removed]",
      "text/plain": [
       "<Figure size 864x576 with 4 Axes>"
      ]
     },
     "metadata": {},
     "output_type": "display_data"
    }
   ],
   "source": [
    "# Import additional libraries\n",
    "import pandas as pd\n",
    "import numpy as np\n",
    "from sklearn.model_selection import GridSearchCV\n",
    "from sklearn.model_selection import train_test_split\n",
    "from sklearn.preprocessing import StandardScaler\n",
    "from sklearn.svm import SVC\n",
    "from sklearn.neighbors import KNeighborsClassifier\n",
    "from sklearn.naive_bayes import GaussianNB\n",
    "from xgboost import XGBClassifier\n",
    "import xgboost as xgb\n",
    "from sklearn.metrics import accuracy_score, f1_score, recall_score, precision_score\n",
    "import matplotlib.pyplot as plt\n",
    "import seaborn as sns\n",
    "\n",
    "# Load the data and assign features and target\n",
    "data = resampled_data\n",
    "X = resampled_data.drop(\"average_rating_bin\", axis=1)\n",
    "y = resampled_data[\"average_rating_bin\"]\n",
    "\n",
    "# Split the data into training and testing sets\n",
    "X_train, X_test, y_train, y_test = train_test_split(X, y, test_size=0.2, random_state=42)\n",
    "\n",
    "# *************Converting data to XGBoost DMatrix format\n",
    "dtrain = xgb.DMatrix(X_train, label=y_train)\n",
    "dtest = xgb.DMatrix(X_test, label=y_test)\n",
    "\n",
    "# Scale the data using StandardScaler\n",
    "scaler = StandardScaler()\n",
    "X_train = scaler.fit_transform(X_train)\n",
    "X_test = scaler.transform(X_test)\n",
    "y_test = y_test.to_numpy()\n",
    "\n",
    "# Define models with default hyperparameters\n",
    "svm = SVC(kernel='rbf', C=1.0, gamma='scale', random_state=42)\n",
    "knn = KNeighborsClassifier()\n",
    "nb = GaussianNB()\n",
    "# xgb = XGBClassifier(learning_rate=0.1, max_depth=3, n_estimators=1000, subsample=0.8, colsample_bytree=0.8, seed=42)\n",
    "params = {\n",
    "    'max_depth': 3,\n",
    "    'objective': 'reg:squarederror',\n",
    "    'eval_metric': 'logloss'\n",
    "}\n",
    "\n",
    "# Train the models\n",
    "svm.fit(X_train, y_train)\n",
    "knn.fit(X_train, y_train)\n",
    "nb.fit(X_train, y_train)\n",
    "# xgb.fit(X_train, y_train, eval_set=[(X_test, y_test)], early_stopping_rounds=10, verbose=False)\n",
    "num_rounds = 100\n",
    "model = xgb.train(params, dtrain, num_rounds)\n",
    "\n",
    "# Make predictions on testing data\n",
    "svm_pred = svm.predict(X_test)\n",
    "knn_pred = knn.predict(X_test)\n",
    "nb_pred = nb.predict(X_test)\n",
    "# xgb_pred = xgb.predict(X_test)\n",
    "# Making predictions on testing data\n",
    "y_pred = model.predict(dtest)\n",
    "y_pred_binary = [1 if x > 0.5 else 0 for x in y_pred]\n",
    "\n",
    "# Calculate model performance metrics\n",
    "svm_accuracy = accuracy_score(y_test, svm_pred)\n",
    "knn_accuracy = accuracy_score(y_test, knn_pred)\n",
    "nb_accuracy = accuracy_score(y_test, nb_pred)\n",
    "# xgb_accuracy = accuracy_score(y_test, xgb_pred)\n",
    "xgb_accuracy = accuracy_score(y_test, y_pred_binary)\n",
    "\n",
    "svm_f1 = f1_score(y_test, svm_pred, average='weighted')\n",
    "knn_f1 = f1_score(y_test, knn_pred, average='weighted')\n",
    "nb_f1 = f1_score(y_test, nb_pred, average='weighted')\n",
    "# xgb_f1 = f1_score(y_test, xgb_pred, average='weighted')\n",
    "xgb_f1 = f1_score(np.array(y_test),y_pred_binary,average='weighted')\n",
    "\n",
    "svm_recall = recall_score(y_test, svm_pred, average='weighted')\n",
    "knn_recall = recall_score(y_test, knn_pred, average='weighted')\n",
    "nb_recall = recall_score(y_test, nb_pred, average='weighted')\n",
    "# xgb_recall = recall_score(y_test, xgb_pred, average='weighted')\n",
    "xgb_recall = recall_score(np.array(y_test),y_pred_binary,average='weighted')\n",
    "\n",
    "svm_precision = precision_score(y_test, svm_pred, average='weighted')\n",
    "knn_precision = precision_score(y_test, knn_pred, average='weighted')\n",
    "nb_precision = precision_score(y_test, nb_pred, average='weighted')\n",
    "# xgb_precision = precision_score(y_test, xgb_pred, average='weighted')\n",
    "xgb_precision = precision_score(np.array(y_test),y_pred_binary,average='weighted')\n",
    "\n",
    "# Create a dataframe to store model performance metrics\n",
    "\n",
    "data = {'Model': ['SVM', 'KNN', 'Naive Bayes', 'XGBoost'],\n",
    "        'Accuracy': [svm_accuracy, knn_accuracy, nb_accuracy, xgb_accuracy],\n",
    "        'F1 Score': [svm_f1, knn_f1, nb_f1, xgb_f1],\n",
    "        'Recall': [svm_recall, knn_recall, nb_recall, xgb_recall],\n",
    "        'Precision': [svm_precision, knn_precision, nb_precision, xgb_precision]}\n",
    "performance_df = pd.DataFrame(data)\n",
    "\n",
    "sns.set(style=\"whitegrid\")\n",
    "\n",
    "# Create a figure with 2 rows and 2 columns of subplots\n",
    "fig, axes = plt.subplots(nrows=2, ncols=2, figsize=(12, 8))\n",
    "\n",
    "# Plot the accuracy subplot\n",
    "sns.barplot(x=\"Model\", y=\"Accuracy\", data=performance_df, ax=axes[0, 0])\n",
    "axes[0, 0].set_title(\"Model Comparison - Accuracy\")\n",
    "\n",
    "# Plot the F1 score subplot\n",
    "sns.barplot(x=\"Model\", y=\"F1 Score\", data=performance_df, ax=axes[0, 1])\n",
    "axes[0, 1].set_title(\"Model Comparison - F1 Score\")\n",
    "\n",
    "# Plot the Recall subplot\n",
    "sns.barplot(x=\"Model\", y=\"Recall\", data=performance_df, ax=axes[1, 0])\n",
    "axes[1, 0].set_title(\"Model Comparison - Recall\")\n",
    "\n",
    "# Plot the Precision subplot\n",
    "sns.barplot(x=\"Model\", y=\"Precision\", data=performance_df, ax=axes[1, 1])\n",
    "axes[1, 1].set_title(\"Model Comparison - Precision\")\n",
    "\n",
    "plt.tight_layout()\n",
    "plt.show()"
   ]
  },
  {
   "cell_type": "code",
   "execution_count": 118,
   "metadata": {
    "colab": {
     "base_uri": "https://localhost:8080/",
     "height": 175
    },
    "id": "jaPiBXsFHYcy",
    "outputId": "44b52770-f34e-4111-b76f-2489a1cedb68"
   },
   "outputs": [
    {
     "data": {
      "text/html": [
       "<div>\n",
       "<style scoped>\n",
       "    .dataframe tbody tr th:only-of-type {\n",
       "        vertical-align: middle;\n",
       "    }\n",
       "\n",
       "    .dataframe tbody tr th {\n",
       "        vertical-align: top;\n",
       "    }\n",
       "\n",
       "    .dataframe thead th {\n",
       "        text-align: right;\n",
       "    }\n",
       "</style>\n",
       "<table border=\"1\" class=\"dataframe\">\n",
       "  <thead>\n",
       "    <tr style=\"text-align: right;\">\n",
       "      <th></th>\n",
       "      <th>Model</th>\n",
       "      <th>Accuracy</th>\n",
       "      <th>F1 Score</th>\n",
       "      <th>Recall</th>\n",
       "      <th>Precision</th>\n",
       "    </tr>\n",
       "  </thead>\n",
       "  <tbody>\n",
       "    <tr>\n",
       "      <th>0</th>\n",
       "      <td>SVM</td>\n",
       "      <td>0.917415</td>\n",
       "      <td>0.917579</td>\n",
       "      <td>0.917415</td>\n",
       "      <td>0.917847</td>\n",
       "    </tr>\n",
       "    <tr>\n",
       "      <th>1</th>\n",
       "      <td>KNN</td>\n",
       "      <td>0.861759</td>\n",
       "      <td>0.862297</td>\n",
       "      <td>0.861759</td>\n",
       "      <td>0.864112</td>\n",
       "    </tr>\n",
       "    <tr>\n",
       "      <th>2</th>\n",
       "      <td>Naive Bayes</td>\n",
       "      <td>0.351885</td>\n",
       "      <td>0.211266</td>\n",
       "      <td>0.351885</td>\n",
       "      <td>0.528075</td>\n",
       "    </tr>\n",
       "    <tr>\n",
       "      <th>3</th>\n",
       "      <td>XGBoost</td>\n",
       "      <td>0.660682</td>\n",
       "      <td>0.548592</td>\n",
       "      <td>0.660682</td>\n",
       "      <td>0.493298</td>\n",
       "    </tr>\n",
       "  </tbody>\n",
       "</table>\n",
       "</div>"
      ],
      "text/plain": [
       "         Model  Accuracy  F1 Score    Recall  Precision\n",
       "0          SVM  0.917415  0.917579  0.917415   0.917847\n",
       "1          KNN  0.861759  0.862297  0.861759   0.864112\n",
       "2  Naive Bayes  0.351885  0.211266  0.351885   0.528075\n",
       "3      XGBoost  0.660682  0.548592  0.660682   0.493298"
      ]
     },
     "execution_count": 118,
     "metadata": {},
     "output_type": "execute_result"
    }
   ],
   "source": [
    "performance_df"
   ]
  },
  {
   "cell_type": "code",
   "execution_count": 119,
   "metadata": {
    "colab": {
     "base_uri": "https://localhost:8080/"
    },
    "id": "j-4VINun8MnA",
    "outputId": "32fc74ca-6408-4fce-ee4d-3647cb1103d1"
   },
   "outputs": [
    {
     "name": "stdout",
     "output_type": "stream",
     "text": [
      "SVM best parameters: {'svm__C': 10, 'svm__gamma': 'scale', 'svm__kernel': 'linear'}\n",
      "SVM best score: 0.9833838867335112\n",
      "KNN best parameters: {'knn__n_neighbors': 5, 'knn__weights': 'distance'}\n",
      "KNN best score: 0.8652955106565224\n",
      "Naive Bayes best parameters: {'nb__var_smoothing': 1e-07}\n",
      "Naive Bayes best score: 0.35563662014410236\n"
     ]
    }
   ],
   "source": [
    "# Perform hyperparameter tuning for all models\n",
    "# Import necessary libraries\n",
    "from sklearn.model_selection import GridSearchCV\n",
    "from sklearn.pipeline import Pipeline\n",
    "from sklearn.preprocessing import StandardScaler\n",
    "from sklearn.svm import SVC\n",
    "from sklearn.neighbors import KNeighborsClassifier\n",
    "from sklearn.naive_bayes import GaussianNB\n",
    "import numpy as np\n",
    "import pandas as pd\n",
    "import seaborn as sns\n",
    "import matplotlib.pyplot as plt\n",
    "# Load the data\n",
    "data = resampled_data\n",
    "X = data.drop(\"average_rating_bin\", axis=1)\n",
    "y = data[\"average_rating_bin\"]\n",
    "\n",
    "# Split the data into training and testing sets\n",
    "X_train, X_test, y_train, y_test = train_test_split(X, y, test_size=0.2, random_state=42)\n",
    "\n",
    "# Define the models with default hyperparameters\n",
    "svm = SVC(kernel='rbf', C=1.0, gamma='scale', random_state=42)\n",
    "knn = KNeighborsClassifier()\n",
    "nb = GaussianNB()\n",
    "\n",
    "# Define the parameter grids for hyperparameter tuning\n",
    "# Create the parameter grid for each pipeline\n",
    "svm_param_grid = {\n",
    "    'svm__C': [0.1, 1, 10],\n",
    "    'svm__kernel': ['linear', 'rbf'],\n",
    "    'svm__gamma': ['scale', 'auto']\n",
    "}\n",
    "\n",
    "knn_param_grid = {\n",
    "    'knn__n_neighbors': [3, 5, 7],\n",
    "    'knn__weights': ['uniform', 'distance']\n",
    "}\n",
    "\n",
    "nb_param_grid = {\n",
    "    'nb__var_smoothing': [1e-9, 1e-8, 1e-7]\n",
    "}\n",
    "\n",
    "\n",
    "# Define the pipelines for each model with scaling\n",
    "svm_pipeline = Pipeline(steps=[('scaler', StandardScaler()), ('svm', svm)],)\n",
    "knn_pipeline = Pipeline(steps=[('scaler', StandardScaler()), ('knn', knn)])\n",
    "nb_pipeline = Pipeline(steps=[('scaler', StandardScaler()), ('nb', nb)])\n",
    "\n",
    "# Create the grid search objects for each pipeline\n",
    "svm_grid_search = GridSearchCV(svm_pipeline, svm_param_grid, cv=5)\n",
    "knn_grid_search = GridSearchCV(knn_pipeline, knn_param_grid, cv=5)\n",
    "nb_grid_search = GridSearchCV(nb_pipeline, nb_param_grid, cv=5)\n",
    "\n",
    "\n",
    "# # Define the grid search objects for each model\n",
    "# svm_grid_search = GridSearchCV(svm_pipeline, svm_param_grid, scoring='accuracy', cv=5)\n",
    "# knn_grid_search = GridSearchCV(knn_pipeline, knn_param_grid, scoring='accuracy', cv=5)\n",
    "# nb_grid_search = GridSearchCV(nb_pipeline, nb_param_grid, scoring='accuracy', cv=5)\n",
    "\n",
    "# Train the grid search objects\n",
    "svm_grid_search.fit(X_train, y_train)\n",
    "knn_grid_search.fit(X_train, y_train)\n",
    "nb_grid_search.fit(X_train, y_train)\n",
    "\n",
    "# Get the best parameters and the best score for each model\n",
    "svm_best_params = svm_grid_search.best_params_\n",
    "svm_best_score = svm_grid_search.best_score_\n",
    "knn_best_params = knn_grid_search.best_params_\n",
    "knn_best_score = knn_grid_search.best_score_\n",
    "nb_best_params = nb_grid_search.best_params_\n",
    "nb_best_score = nb_grid_search.best_score_\n",
    "\n",
    "print(\"SVM best parameters:\", svm_best_params)\n",
    "print(\"SVM best score:\", svm_best_score)\n",
    "print(\"KNN best parameters:\", knn_best_params)\n",
    "print(\"KNN best score:\", knn_best_score)\n",
    "print(\"Naive Bayes best parameters:\", nb_best_params)\n",
    "print(\"Naive Bayes best score:\", nb_best_score)"
   ]
  },
  {
   "cell_type": "markdown",
   "metadata": {
    "id": "XNYOwuEv3auf"
   },
   "source": [
    "## **Four machine learning algorithms were used:K-Nearest Neighbors (KNN), Naive Bayes, Support Vector Machine (SVM), and XGBoost. For each algorithm, hyperparameter tuning was done using GridSearchCV with 5-fold cross-validation. The chosen hyperparameters are:**\n",
    "\n",
    "\n",
    "K-Nearest Neighbors: 'n_neighbors' and 'p'\n",
    "\n",
    "Naive Bayes: 'var_smoothing'\n",
    "\n",
    "Support Vector Machine: 'C' and 'kernel'\n",
    "\n",
    "XGBoost: 'n_estimators', 'max_depth', and 'learning_rate'"
   ]
  },
  {
   "cell_type": "code",
   "execution_count": 120,
   "metadata": {
    "colab": {
     "base_uri": "https://localhost:8080/",
     "height": 691
    },
    "id": "Et-_0II0ypLI",
    "outputId": "134c56f9-3c51-4868-8277-ed0c6159adc1"
   },
   "outputs": [
    {
     "data": {
      "image/png": "[encoded data removed]",
      "text/plain": [
       "<Figure size 1080x720 with 4 Axes>"
      ]
     },
     "metadata": {},
     "output_type": "display_data"
    }
   ],
   "source": [
    "# Import additional libraries needed for plotting evaluation metrics\n",
    "from sklearn.metrics import confusion_matrix, roc_curve, auc, precision_recall_curve, average_precision_score\n",
    "import seaborn as sns\n",
    "\n",
    "X_train, X_test, y_train, y_test = train_test_split(X, y, test_size=0.3, random_state=42)\n",
    "\n",
    "# Create a function to plot confusion matrices\n",
    "def plot_confusion_matrix(y_true, y_pred, title, ax):\n",
    "    # Calculate the confusion matrix using true and predicted labels\n",
    "    cm = confusion_matrix(y_true, y_pred)  \n",
    "    # Visualize the confusion matrix as a heatmap\n",
    "    sns.heatmap(cm, annot=True, fmt='d', ax=ax, cmap='Blues', cbar=False)  \n",
    "    # Set the x-axis label to 'Predicted Label'\n",
    "    ax.set_xlabel('Predicted Label')  \n",
    "    # Set the y-axis label to True Label\n",
    "    ax.set_ylabel('True Label')  \n",
    "    # Set the title of the subplot to the provided title\n",
    "    ax.set_title(title)  \n",
    "\n",
    "# Create a function to plot ROC curves\n",
    "def plot_roc_curve(y_true, y_score, title, ax):\n",
    "    # Calculate the false positive rate and true positive rate\n",
    "    fpr, tpr, _ = roc_curve(y_true, y_score)  \n",
    "    # Calculate the area under the ROC curve\n",
    "    roc_auc = auc(fpr, tpr)  \n",
    "    # Plot the ROC curve with the AUC score as the label\n",
    "    ax.plot(fpr, tpr, label='AUC = %0.2f' % roc_auc)  \n",
    "    # Plot the diagonal line (random classifier)\n",
    "    ax.plot([0, 1], [0, 1], 'k--')  \n",
    "    # Set the limits for the x-axis\n",
    "    ax.set_xlim([0.0, 1.0])  \n",
    "    # Set the limits for the y-axis\n",
    "    ax.set_ylim([0.0, 1.05])  \n",
    "    # Set the x-axis label to 'False Positive Rate'\n",
    "    ax.set_xlabel('False Positive Rate')  \n",
    "    # Set the y-axis label to 'True Positive Rate'\n",
    "    ax.set_ylabel('True Positive Rate')  \n",
    "    # Set the title of the subplot to the provided title\n",
    "    ax.set_title(title)  \n",
    "    # Add a legend to the subplot at the lower right corner\n",
    "    ax.legend(loc=\"lower right\")  \n",
    "\n",
    "# Create a function to plot precision-recall curves\n",
    "def plot_precision_recall_curve(y_true, y_score, title, ax):\n",
    "    # Calculate precision and recall values\n",
    "    precision, recall, _ = precision_recall_curve(y_true, y_score)  \n",
    "    # Calculate the average precision score\n",
    "    average_precision = average_precision_score(y_true, y_score)  \n",
    "    # Plot the precision-recall curve\n",
    "    ax.step(recall, precision, where='post')  \n",
    "    # Fill the area under the curve with transparency\n",
    "    ax.fill_between(recall, precision, step='post', alpha=0.2)  \n",
    "    # Set the x-axis label to 'Recall'\n",
    "    ax.set_xlabel('Recall')  \n",
    "    # Set the y-axis label to 'Precision'\n",
    "    ax.set_ylabel('Precision')  \n",
    "    # Set the limits for the y-axis\n",
    "    ax.set_ylim([0.0, 1.05])  \n",
    "    # Set the limits for the x-axis\n",
    "    ax.set_xlim([0.0, 1.0])  \n",
    "    # Set the title of the subplot with Avgerage Precision\n",
    "    ax.set_title(f'{title} (Avg. Precision = {average_precision:.2f})')  \n",
    "\n",
    "# Create subplots for confusion matrices\n",
    "# Create a 2x3 grid of subplots with a specified figure size\n",
    "fig, axes = plt.subplots(2, 2, figsize=(15, 10))   \n",
    "# Plot confusion matrix for XGBoost\n",
    "plot_confusion_matrix(np.array(y_test), best_xgb.predict(X_test), 'XGBoost', axes[0, 0]) \n",
    "# Plot confusion matrix for SVM \n",
    "plot_confusion_matrix(np.array(y_test), best_svm.predict(X_test), 'SVM', axes[0, 1])\n",
    "# Plot confusion matrix for KNN  \n",
    "plot_confusion_matrix(np.array(y_test), best_knn.predict(X_test), 'KNN', axes[1, 0])  \n",
    "# Plot confusion matrix for Naive Bayes\n",
    "plot_confusion_matrix(np.array(y_test), clf.predict(X_test), 'Naive Bayes', axes[1, 1])  \n",
    "# Adjust the spacing between subplots for a better layout\n",
    "fig.tight_layout()  \n",
    "# Display the subplots\n",
    "plt.show()  "
   ]
  },
  {
   "cell_type": "markdown",
   "metadata": {
    "id": "UCwDrguo0aH2"
   },
   "source": [
    "## The above code creates a 2x3 grid of subplots with a specified figure size. The plot_confusion_matrix function is then called for each model with the corresponding test data and best estimator model. The function plots a confusion matrix as a heatmap on the subplot with the provided title. The location of each subplot is specified with the axes argument. After plotting all the subplots, the tight_layout() method is used to adjust the spacing between subplots for a better layout. Finally, the subplots are displayed using plt.show().\n"
   ]
  },
  {
   "cell_type": "markdown",
   "metadata": {
    "id": "a-j2l4DZwH7i"
   },
   "source": [
    "# ********************************Recommendation Models ****************************"
   ]
  },
  {
   "cell_type": "markdown",
   "metadata": {
    "id": "90p-Nt-9lV6A"
   },
   "source": [
    "# Given we have a large number of features for book, we have also designed book recommendation systems to give recommendations based on a book."
   ]
  },
  {
   "cell_type": "markdown",
   "metadata": {
    "id": "aSMc1NISrBI7"
   },
   "source": [
    "## We have built a machine learning model for recommending books and now we will need to create a function using Python. When this function is called, we will have to pass the name of the book to it. The model will try to find books based on the features. We’ll store those book names that the system recommends in a list and return them at the end:"
   ]
  },
  {
   "cell_type": "code",
   "execution_count": 121,
   "metadata": {
    "colab": {
     "base_uri": "https://localhost:8080/"
    },
    "id": "V5TUVPNueEWc",
    "outputId": "5272aff0-054d-4183-ffb3-402700479d67"
   },
   "outputs": [
    {
     "data": {
      "text/plain": [
       "['The War of Art: Break Through the Blocks & Win Your Inner Creative Battles',\n",
       " 'Metamorphoses',\n",
       " 'Why Is Sex Fun? The Evolution of Human Sexuality (Science Masters)',\n",
       " 'Tales from Ovid',\n",
       " 'Ghosts (The New York Trilogy  #2)']"
      ]
     },
     "execution_count": 121,
     "metadata": {},
     "output_type": "execute_result"
    }
   ],
   "source": [
    "def BookRecommender(book_name):\n",
    "    # Create an empty list to store recommended book titles\n",
    "    book_list_name = []  \n",
    "    # Get the index of the given book in the original dataset\n",
    "    book_id = data_orig[data_orig['title'] == book_name].index  \n",
    "    # Get the first (and only) index value\n",
    "    book_id = book_id[0]  \n",
    "    # Iterate over the indices of similar books\n",
    "    for newid in idlist[book_id]:  \n",
    "        # Get the title of each similar book\n",
    "        title = data_orig.loc[newid].title\n",
    "        # Add the title to the list if it's not the same as the input book\n",
    "        if title != book_name:\n",
    "            book_list_name.append(title)  \n",
    "    return book_list_name  \n",
    "\n",
    "BookNames = BookRecommender('Harry Potter and the Half-Blood Prince (Harry Potter  #6)')\n",
    "BookNames  "
   ]
  },
  {
   "cell_type": "markdown",
   "metadata": {
    "id": "OFOTcq6YrUVG"
   },
   "source": [
    "## **Content-Based Filtering**: In content-based filtering, you recommend items similar to the ones a user has liked in the past. You can use features like book title, author, and language to calculate similarity between books using measures like cosine similarity or Jaccard similarity. For textual features like title and author, you can use techniques like TF-IDF (Term Frequency-Inverse Document Frequency) or word embeddings to convert text into numerical representations before calculating similarity."
   ]
  },
  {
   "cell_type": "code",
   "execution_count": 122,
   "metadata": {
    "colab": {
     "base_uri": "https://localhost:8080/"
    },
    "id": "DnPg6s40dBgE",
    "outputId": "69f775dd-5cb2-4627-bdff-53735b5ebff1"
   },
   "outputs": [
    {
     "data": {
      "text/plain": [
       "7             Harry Potter Collection (Harry Potter  #1-6)\n",
       "12663    Harry Potter and the Goblet of Fire (Harry Pot...\n",
       "12660    Harry Potter and the Philosopher's Stone (Harr...\n",
       "695      Harry Potter and the Half-Blood Prince (Harry ...\n",
       "1429     Harry Potter and the Prisoner of Azkaban (Harr...\n",
       "13637    Harry Potter y el prisionero de Azkaban (Harry...\n",
       "13634          Harry Potter Boxed Set (Harry Potter  #1-4)\n",
       "1123     Harry Potter Y La Piedra Filosofal (Harry Pott...\n",
       "5295     Harry Potter y la cámara secreta (Harry Potter...\n",
       "Name: title, dtype: object"
      ]
     },
     "execution_count": 122,
     "metadata": {},
     "output_type": "execute_result"
    }
   ],
   "source": [
    "# Import necessary libraries\n",
    "from sklearn.feature_extraction.text import TfidfVectorizer\n",
    "from sklearn.metrics.pairwise import cosine_similarity\n",
    "\n",
    "# Create a TF-IDF vectorizer for book titles and authors\n",
    "# Create a TF-IDF vectorizer object and remove stop words\n",
    "vectorizer = TfidfVectorizer(stop_words='english')  \n",
    "# Combine book titles and authors into a single string\n",
    "combined_features = data_orig['title'] + \" \" + data_orig['authors']  \n",
    "# Compute the TF-IDF matrix of the combined strings using the vectorizer\n",
    "tfidf_matrix = vectorizer.fit_transform(combined_features)  \n",
    "\n",
    "# Calculate the similarity between all pairs of books in the dataset\n",
    "cosine_sim = cosine_similarity(tfidf_matrix, tfidf_matrix)  \n",
    "\n",
    "def get_recommendations(title, cosine_sim=cosine_sim):\n",
    "    # Get the index of the given book\n",
    "    idx = data_orig[data_orig['title'] == title].index[0]\n",
    "    # Get the cosine similarity scores for all books in the dataset\n",
    "    sim_scores = list(enumerate(cosine_sim[idx]))\n",
    "    # Sort the scores in descending order\n",
    "    sim_scores = sorted(sim_scores, key=lambda x: x[1], reverse=True)\n",
    "    # Get the top 11 most similar books (including the input book itself)\n",
    "    sim_scores = sim_scores[0:11]\n",
    "    # Get the indices of the top 11 most similar books\n",
    "    book_indices = [i[0] for i in sim_scores]\n",
    "    # Get the titles of the top 11 most similar books\n",
    "    recommended_books = data_orig['title'].iloc[book_indices]\n",
    "    # Remove the input book from the recommendations\n",
    "    recommended_books = recommended_books[recommended_books != title]\n",
    "    # Return the titles of the top 10 most similar books\n",
    "    return recommended_books \n",
    "\n",
    "# Get recommendations for a specific book\n",
    "recm = get_recommendations('Harry Potter and the Chamber of Secrets (Harry Potter  #2)')\n",
    "recm"
   ]
  },
  {
   "cell_type": "code",
   "execution_count": null,
   "metadata": {
    "id": "ibxzUMWEyJtp"
   },
   "outputs": [],
   "source": []
  },
  {
   "cell_type": "markdown",
   "metadata": {
    "id": "3TJ9iXPwv2K6"
   },
   "source": [
    "# In conclusion, we have explored various data science models for building a book recommendation system. We have used different techniques, such as K-Nearest Neighbors, Content-Based Filtering, and Collaborative Filtering with Matrix Factorization. Additionally, we briefly touched upon Neural Collaborative Filtering as another potential method for recommendation systems. Each of these approaches has its advantages and limitations, and the choice of model depends on the data available and the specific needs of the project. \n",
    "\n",
    "## In the end, an effective book recommendation system can greatly enhance user experience on platforms that provide access to books, helping readers discover new titles and authors that align with their interests. As a result, these recommendation systems play a crucial role in driving user engagement and satisfaction."
   ]
  },
  {
   "cell_type": "code",
   "execution_count": null,
   "metadata": {
    "id": "HX8-SmwPt3sh"
   },
   "outputs": [],
   "source": []
  }
 ],
 "metadata": {
  "colab": {
   "provenance": []
  },
  "kernelspec": {
   "display_name": "Python 3 (ipykernel)",
   "language": "python",
   "name": "python3"
  },
  "language_info": {
   "codemirror_mode": {
    "name": "ipython",
    "version": 3
   },
   "file_extension": ".py",
   "mimetype": "text/x-python",
   "name": "python",
   "nbconvert_exporter": "python",
   "pygments_lexer": "ipython3",
   "version": "3.9.7"
  }
 },
 "nbformat": 4,
 "nbformat_minor": 1
}
